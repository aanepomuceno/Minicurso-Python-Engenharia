{
 "cells": [
  {
   "cell_type": "markdown",
   "metadata": {
    "id": "nUYXTd0tTeZw"
   },
   "source": [
    "# Python para Engenharia\n",
    "## Andre Nepomuceno - UFF\n",
    "### Outubro de 2022"
   ]
  },
  {
   "cell_type": "markdown",
   "metadata": {
    "id": "L03OOe6PTeZy"
   },
   "source": [
    "**Operações Aritméticas**"
   ]
  },
  {
   "cell_type": "code",
   "execution_count": 1,
   "metadata": {
    "id": "Gxcs_hygTeZy"
   },
   "outputs": [
    {
     "data": {
      "text/plain": [
       "11.211578456539659"
      ]
     },
     "execution_count": 1,
     "metadata": {},
     "output_type": "execute_result"
    }
   ],
   "source": [
    "3**2.2"
   ]
  },
  {
   "cell_type": "code",
   "execution_count": 2,
   "metadata": {
    "colab": {
     "base_uri": "https://localhost:8080/"
    },
    "executionInfo": {
     "elapsed": 30,
     "status": "ok",
     "timestamp": 1666201451011,
     "user": {
      "displayName": "Andre Asevedo Nepomuceno",
      "userId": "10675179558870620545"
     },
     "user_tz": 180
    },
    "id": "DgeDcVvoTeZz",
    "outputId": "42642f46-acdf-4318-9149-1731fbca5594"
   },
   "outputs": [
    {
     "data": {
      "text/plain": [
       "2"
      ]
     },
     "execution_count": 2,
     "metadata": {},
     "output_type": "execute_result"
    }
   ],
   "source": [
    "17%3"
   ]
  },
  {
   "cell_type": "code",
   "execution_count": 3,
   "metadata": {
    "colab": {
     "base_uri": "https://localhost:8080/"
    },
    "executionInfo": {
     "elapsed": 27,
     "status": "ok",
     "timestamp": 1666201451014,
     "user": {
      "displayName": "Andre Asevedo Nepomuceno",
      "userId": "10675179558870620545"
     },
     "user_tz": 180
    },
    "id": "dt9tf-wzTeZ0",
    "outputId": "4839b492-2ba0-4ba6-bd98-ebe93360c07a"
   },
   "outputs": [
    {
     "data": {
      "text/plain": [
       "1"
      ]
     },
     "execution_count": 3,
     "metadata": {},
     "output_type": "execute_result"
    }
   ],
   "source": [
    "-17%3"
   ]
  },
  {
   "cell_type": "markdown",
   "metadata": {
    "id": "u9KM25UxTeZ0"
   },
   "source": [
    "**Funções Matemáticas - Módulos**"
   ]
  },
  {
   "cell_type": "code",
   "execution_count": 4,
   "metadata": {
    "id": "yfTFv3VaTeZ1"
   },
   "outputs": [
    {
     "data": {
      "text/plain": [
       "1.4142135623730951"
      ]
     },
     "execution_count": 4,
     "metadata": {},
     "output_type": "execute_result"
    }
   ],
   "source": [
    "import math\n",
    "math.sqrt(2.)"
   ]
  },
  {
   "cell_type": "markdown",
   "metadata": {
    "id": "jKooQuylTeZ2"
   },
   "source": [
    "**Variáveis**"
   ]
  },
  {
   "cell_type": "code",
   "execution_count": 5,
   "metadata": {
    "colab": {
     "base_uri": "https://localhost:8080/"
    },
    "executionInfo": {
     "elapsed": 340,
     "status": "ok",
     "timestamp": 1666201465081,
     "user": {
      "displayName": "Andre Asevedo Nepomuceno",
      "userId": "10675179558870620545"
     },
     "user_tz": 180
    },
    "id": "TygQAkXLTeZ4",
    "outputId": "bdab3945-31a4-4db4-eea5-36d5247f4648"
   },
   "outputs": [
    {
     "name": "stdout",
     "output_type": "stream",
     "text": [
      "1\n",
      "2\n"
     ]
    }
   ],
   "source": [
    "z = 1\n",
    "print(z)\n",
    "z = z +1 #z += 1\n",
    "print(z)"
   ]
  },
  {
   "cell_type": "markdown",
   "metadata": {
    "id": "1rwDUBSyTeZ5"
   },
   "source": [
    "Exemplo - Fórmula de Heron \\\n",
    "$A = \\sqrt{s(s-a)(s-b)(s-c)}$ \\\n",
    "onde $s =  \\frac{1}{2}(a+b+c)$"
   ]
  },
  {
   "cell_type": "code",
   "execution_count": 6,
   "metadata": {
    "id": "LLsIxJo7TeZ6"
   },
   "outputs": [
    {
     "name": "stdout",
     "output_type": "stream",
     "text": [
      "A =  4.68\n"
     ]
    }
   ],
   "source": [
    "import math\n",
    "a,b,c = 4.5,2.4,3.9\n",
    "s = (a+b+c)/2.\n",
    "area = math.sqrt(s*(s - a)*(s - b)*(s - c))\n",
    "print('A = ',round(area,2))"
   ]
  },
  {
   "cell_type": "markdown",
   "metadata": {
    "id": "ZdC-TSKaTeZ8"
   },
   "source": [
    "**Condições**"
   ]
  },
  {
   "cell_type": "code",
   "execution_count": 7,
   "metadata": {
    "colab": {
     "base_uri": "https://localhost:8080/"
    },
    "executionInfo": {
     "elapsed": 14,
     "status": "ok",
     "timestamp": 1666201499205,
     "user": {
      "displayName": "Andre Asevedo Nepomuceno",
      "userId": "10675179558870620545"
     },
     "user_tz": 180
    },
    "id": "wA37DxNbTeZ9",
    "outputId": "e8ba9b2a-a168-4e6a-9d2f-23ed2e13e2bf"
   },
   "outputs": [
    {
     "name": "stdout",
     "output_type": "stream",
     "text": [
      "Essa linha sera executada se  x < 10.\n",
      "Mesmo que a linha acima.\n",
      "Essa linha sera sempre executada.\n"
     ]
    }
   ],
   "source": [
    "x = 7\n",
    "if x < 10:\n",
    "    print(\"Essa linha sera executada se  x < 10.\" )\n",
    "    print(\"Mesmo que a linha acima.\")\n",
    "print(\"Essa linha sera sempre executada.\")"
   ]
  },
  {
   "cell_type": "markdown",
   "metadata": {
    "id": "BK1yrDuWTeZ9"
   },
   "source": [
    "**Loops - while loop**"
   ]
  },
  {
   "cell_type": "code",
   "execution_count": 8,
   "metadata": {
    "colab": {
     "base_uri": "https://localhost:8080/"
    },
    "executionInfo": {
     "elapsed": 241,
     "status": "ok",
     "timestamp": 1666201502239,
     "user": {
      "displayName": "Andre Asevedo Nepomuceno",
      "userId": "10675179558870620545"
     },
     "user_tz": 180
    },
    "id": "RvKHruOWTeZ-",
    "outputId": "6e652b00-e122-49cf-d94d-6632232995ea"
   },
   "outputs": [
    {
     "name": "stdout",
     "output_type": "stream",
     "text": [
      "1\n",
      "2\n",
      "3\n",
      "4\n",
      "5\n",
      "Fim!\n"
     ]
    }
   ],
   "source": [
    "num = 1\n",
    "while num <= 5:\n",
    "    print( num )\n",
    "    num += 1      #equivalente a num = num+1\n",
    "print( \"Fim!\" )"
   ]
  },
  {
   "cell_type": "markdown",
   "metadata": {
    "id": "TDKEQyxnTeZ_"
   },
   "source": [
    "**Loops - For loops**"
   ]
  },
  {
   "cell_type": "code",
   "execution_count": 9,
   "metadata": {
    "colab": {
     "base_uri": "https://localhost:8080/"
    },
    "executionInfo": {
     "elapsed": 853,
     "status": "ok",
     "timestamp": 1666201539151,
     "user": {
      "displayName": "Andre Asevedo Nepomuceno",
      "userId": "10675179558870620545"
     },
     "user_tz": 180
    },
    "id": "-nw2thyoTeZ_",
    "outputId": "b4ebe3cc-0184-4d16-ff88-41467f38c19d"
   },
   "outputs": [
    {
     "name": "stdout",
     "output_type": "stream",
     "text": [
      "0\n",
      "1\n",
      "2\n",
      "3\n",
      "4\n",
      "5\n",
      "6\n",
      "7\n",
      "8\n"
     ]
    }
   ],
   "source": [
    "#range() - exemplos\n",
    "for i in range(9):\n",
    "    print(i)"
   ]
  },
  {
   "cell_type": "markdown",
   "metadata": {
    "id": "kuX_6StVTeZ_"
   },
   "source": [
    "**Loops dentro de Loops**"
   ]
  },
  {
   "cell_type": "code",
   "execution_count": 10,
   "metadata": {
    "id": "Py0pBBCjTeaA"
   },
   "outputs": [
    {
     "name": "stdout",
     "output_type": "stream",
     "text": [
      "Entrando no loop i = 0\n",
      "Entrando no loop j = 0\n",
      "i,j =  0 0\n",
      "Entrando no loop j = 1\n",
      "i,j =  0 1\n",
      "Entrando no loop j = 2\n",
      "i,j =  0 2\n",
      "Entrando no loop j = 3\n",
      "i,j =  0 3\n",
      "Saindo do primeiro loop com i = 0\n",
      "Entrando no loop i = 1\n",
      "Entrando no loop j = 0\n",
      "i,j =  1 0\n",
      "Entrando no loop j = 1\n",
      "i,j =  1 1\n",
      "Entrando no loop j = 2\n",
      "i,j =  1 2\n",
      "Entrando no loop j = 3\n",
      "i,j =  1 3\n",
      "Saindo do primeiro loop com i = 1\n",
      "Entrando no loop i = 2\n",
      "Entrando no loop j = 0\n",
      "i,j =  2 0\n",
      "Entrando no loop j = 1\n",
      "i,j =  2 1\n",
      "Entrando no loop j = 2\n",
      "i,j =  2 2\n",
      "Entrando no loop j = 3\n",
      "i,j =  2 3\n",
      "Saindo do primeiro loop com i = 2\n",
      "Fim!\n"
     ]
    }
   ],
   "source": [
    "for i in range(3):\n",
    "    print('Entrando no loop i =',i)\n",
    "    for j in range(4):\n",
    "        print('Entrando no loop j =', j)\n",
    "        print('i,j = ',  i,j)\n",
    "    print('Saindo do primeiro loop com i =', i)\n",
    "print('Fim!')"
   ]
  },
  {
   "cell_type": "markdown",
   "metadata": {
    "id": "N8umH78lTeaA"
   },
   "source": [
    "**Listas - Exemplos**"
   ]
  },
  {
   "cell_type": "code",
   "execution_count": 11,
   "metadata": {
    "executionInfo": {
     "elapsed": 376,
     "status": "ok",
     "timestamp": 1666201623074,
     "user": {
      "displayName": "Andre Asevedo Nepomuceno",
      "userId": "10675179558870620545"
     },
     "user_tz": 180
    },
    "id": "xbwvYDaGTeaB"
   },
   "outputs": [],
   "source": [
    "L = [1,2.5,5.69,\"x\"]"
   ]
  },
  {
   "cell_type": "code",
   "execution_count": 12,
   "metadata": {
    "colab": {
     "base_uri": "https://localhost:8080/"
    },
    "executionInfo": {
     "elapsed": 12,
     "status": "ok",
     "timestamp": 1666201637117,
     "user": {
      "displayName": "Andre Asevedo Nepomuceno",
      "userId": "10675179558870620545"
     },
     "user_tz": 180
    },
    "id": "x-Pz-OkGTeaB",
    "outputId": "0083bf47-8f1f-4aab-ab75-464fefe495a2"
   },
   "outputs": [
    {
     "data": {
      "text/plain": [
       "2.5"
      ]
     },
     "execution_count": 12,
     "metadata": {},
     "output_type": "execute_result"
    }
   ],
   "source": [
    "L[1]"
   ]
  },
  {
   "cell_type": "code",
   "execution_count": 13,
   "metadata": {
    "colab": {
     "base_uri": "https://localhost:8080/",
     "height": 36
    },
    "executionInfo": {
     "elapsed": 267,
     "status": "ok",
     "timestamp": 1666201662855,
     "user": {
      "displayName": "Andre Asevedo Nepomuceno",
      "userId": "10675179558870620545"
     },
     "user_tz": 180
    },
    "id": "GxYjmF7MW0w4",
    "outputId": "7cd4c3f9-0b69-4c3a-9d99-399ad9c470ff"
   },
   "outputs": [
    {
     "data": {
      "text/plain": [
       "'x'"
      ]
     },
     "execution_count": 13,
     "metadata": {},
     "output_type": "execute_result"
    }
   ],
   "source": [
    "L[-1]"
   ]
  },
  {
   "cell_type": "code",
   "execution_count": 14,
   "metadata": {
    "colab": {
     "base_uri": "https://localhost:8080/"
    },
    "executionInfo": {
     "elapsed": 734,
     "status": "ok",
     "timestamp": 1666201684255,
     "user": {
      "displayName": "Andre Asevedo Nepomuceno",
      "userId": "10675179558870620545"
     },
     "user_tz": 180
    },
    "id": "tVzDlZNPW8Xc",
    "outputId": "fa76b484-1bf1-4977-a038-9c7b60ea9785"
   },
   "outputs": [
    {
     "data": {
      "text/plain": [
       "[3.4, 2.5, 5.69, 'x']"
      ]
     },
     "execution_count": 14,
     "metadata": {},
     "output_type": "execute_result"
    }
   ],
   "source": [
    "L[0] = 3.4\n",
    "L"
   ]
  },
  {
   "cell_type": "code",
   "execution_count": 15,
   "metadata": {
    "executionInfo": {
     "elapsed": 333,
     "status": "ok",
     "timestamp": 1666201693954,
     "user": {
      "displayName": "Andre Asevedo Nepomuceno",
      "userId": "10675179558870620545"
     },
     "user_tz": 180
    },
    "id": "D50oet-4TeaC"
   },
   "outputs": [],
   "source": [
    "q1 = [1.1,2,3]"
   ]
  },
  {
   "cell_type": "code",
   "execution_count": 16,
   "metadata": {
    "colab": {
     "base_uri": "https://localhost:8080/"
    },
    "executionInfo": {
     "elapsed": 8,
     "status": "ok",
     "timestamp": 1666201695659,
     "user": {
      "displayName": "Andre Asevedo Nepomuceno",
      "userId": "10675179558870620545"
     },
     "user_tz": 180
    },
    "id": "g8RZOUQhTeaD",
    "outputId": "ec4d3801-ba95-45eb-a340-32f71040de91"
   },
   "outputs": [
    {
     "name": "stdout",
     "output_type": "stream",
     "text": [
      "[1.1, 2, 3]\n"
     ]
    }
   ],
   "source": [
    "q2 = q1\n",
    "print(q2)"
   ]
  },
  {
   "cell_type": "code",
   "execution_count": 17,
   "metadata": {
    "colab": {
     "base_uri": "https://localhost:8080/"
    },
    "executionInfo": {
     "elapsed": 399,
     "status": "ok",
     "timestamp": 1666201697932,
     "user": {
      "displayName": "Andre Asevedo Nepomuceno",
      "userId": "10675179558870620545"
     },
     "user_tz": 180
    },
    "id": "BuqH5KYxTeaD",
    "outputId": "819f5454-2dc6-48df-b079-46abf03b8dfd"
   },
   "outputs": [
    {
     "name": "stdout",
     "output_type": "stream",
     "text": [
      "[1.1, 2, 'x']\n"
     ]
    }
   ],
   "source": [
    "q2[-1] = 'x'\n",
    "print(q2)"
   ]
  },
  {
   "cell_type": "code",
   "execution_count": 18,
   "metadata": {
    "colab": {
     "base_uri": "https://localhost:8080/"
    },
    "executionInfo": {
     "elapsed": 3,
     "status": "ok",
     "timestamp": 1666201702075,
     "user": {
      "displayName": "Andre Asevedo Nepomuceno",
      "userId": "10675179558870620545"
     },
     "user_tz": 180
    },
    "id": "N9rJxRgjTeaE",
    "outputId": "4f33d3d5-0c05-4df2-d3bf-fa9cb1426a30"
   },
   "outputs": [
    {
     "name": "stdout",
     "output_type": "stream",
     "text": [
      "[1.1, 2, 'x']\n"
     ]
    }
   ],
   "source": [
    "print(q1)"
   ]
  },
  {
   "cell_type": "code",
   "execution_count": 19,
   "metadata": {
    "colab": {
     "base_uri": "https://localhost:8080/"
    },
    "executionInfo": {
     "elapsed": 258,
     "status": "ok",
     "timestamp": 1666201706504,
     "user": {
      "displayName": "Andre Asevedo Nepomuceno",
      "userId": "10675179558870620545"
     },
     "user_tz": 180
    },
    "id": "KVBVr6XqTeaF",
    "outputId": "6815a9ca-220a-448e-8df0-d0240b34af11"
   },
   "outputs": [
    {
     "name": "stdout",
     "output_type": "stream",
     "text": [
      "[1.1, 2, 'x']\n",
      "[4.2, 2, 'x']\n"
     ]
    }
   ],
   "source": [
    "q3 = q1.copy()\n",
    "q3[0] = 4.2\n",
    "print(q1)\n",
    "print(q3)"
   ]
  },
  {
   "cell_type": "code",
   "execution_count": 20,
   "metadata": {
    "colab": {
     "base_uri": "https://localhost:8080/"
    },
    "executionInfo": {
     "elapsed": 13,
     "status": "ok",
     "timestamp": 1666201743170,
     "user": {
      "displayName": "Andre Asevedo Nepomuceno",
      "userId": "10675179558870620545"
     },
     "user_tz": 180
    },
    "id": "j8Y9DnS5XFw-",
    "outputId": "6d59515e-d8e3-4d50-d088-27376b98005b"
   },
   "outputs": [
    {
     "name": "stdout",
     "output_type": "stream",
     "text": [
      "[3.4, 2.5, 5.69, 'x']\n",
      "[3.4, 2.5, 5.69, 'x', 8.96]\n"
     ]
    }
   ],
   "source": [
    "print(L)\n",
    "L.append(8.96)\n",
    "print(L)"
   ]
  },
  {
   "cell_type": "markdown",
   "metadata": {
    "id": "cRXdxnchTeaF"
   },
   "source": [
    "**Numpy Arrays**"
   ]
  },
  {
   "cell_type": "code",
   "execution_count": 21,
   "metadata": {
    "executionInfo": {
     "elapsed": 273,
     "status": "ok",
     "timestamp": 1666202241876,
     "user": {
      "displayName": "Andre Asevedo Nepomuceno",
      "userId": "10675179558870620545"
     },
     "user_tz": 180
    },
    "id": "TwkzUo1vTeaG"
   },
   "outputs": [],
   "source": [
    "import numpy as np"
   ]
  },
  {
   "cell_type": "code",
   "execution_count": 22,
   "metadata": {
    "colab": {
     "base_uri": "https://localhost:8080/"
    },
    "executionInfo": {
     "elapsed": 270,
     "status": "ok",
     "timestamp": 1666202282506,
     "user": {
      "displayName": "Andre Asevedo Nepomuceno",
      "userId": "10675179558870620545"
     },
     "user_tz": 180
    },
    "id": "RtQ0s7ySZPFE",
    "outputId": "d412b41a-cf99-4e26-b213-feb9d93affa4"
   },
   "outputs": [
    {
     "data": {
      "text/plain": [
       "array([1. , 2. , 3.1])"
      ]
     },
     "execution_count": 22,
     "metadata": {},
     "output_type": "execute_result"
    }
   ],
   "source": [
    "a = np.array([1.,2,3.1])\n",
    "a"
   ]
  },
  {
   "cell_type": "code",
   "execution_count": 23,
   "metadata": {
    "colab": {
     "base_uri": "https://localhost:8080/"
    },
    "executionInfo": {
     "elapsed": 380,
     "status": "ok",
     "timestamp": 1666202244485,
     "user": {
      "displayName": "Andre Asevedo Nepomuceno",
      "userId": "10675179558870620545"
     },
     "user_tz": 180
    },
    "id": "2o4k9VEQTeaG",
    "outputId": "1fafc3b5-abd1-412c-dad0-faceac0c0fa5",
    "scrolled": true
   },
   "outputs": [
    {
     "name": "stdout",
     "output_type": "stream",
     "text": [
      "[[1.  2.  3.1]\n",
      " [5.  6.  9. ]]\n"
     ]
    }
   ],
   "source": [
    "a = np.array( [ [1,2,3.1], [5.,6.,9]])\n",
    "print(a)"
   ]
  },
  {
   "cell_type": "code",
   "execution_count": 24,
   "metadata": {
    "id": "PQcRUiLwTeaG"
   },
   "outputs": [
    {
     "name": "stdout",
     "output_type": "stream",
     "text": [
      "[ 0.  2.  4.  6.  8. 10.]\n",
      "[ 0.  2.  4.  6.  8. 10.]\n"
     ]
    }
   ],
   "source": [
    "a = np.arange(0,11.,2)\n",
    "b = np.linspace(0,10,6)\n",
    "print(a); print(b)"
   ]
  },
  {
   "cell_type": "code",
   "execution_count": 25,
   "metadata": {
    "id": "BqdLCh0iTeaH"
   },
   "outputs": [
    {
     "data": {
      "text/plain": [
       "(6,)"
      ]
     },
     "execution_count": 25,
     "metadata": {},
     "output_type": "execute_result"
    }
   ],
   "source": [
    "a.shape"
   ]
  },
  {
   "cell_type": "code",
   "execution_count": 26,
   "metadata": {
    "id": "eobcXqezTeaH"
   },
   "outputs": [
    {
     "data": {
      "text/plain": [
       "1"
      ]
     },
     "execution_count": 26,
     "metadata": {},
     "output_type": "execute_result"
    }
   ],
   "source": [
    "a.ndim"
   ]
  },
  {
   "cell_type": "code",
   "execution_count": 27,
   "metadata": {
    "id": "txHYIVPvTeaI"
   },
   "outputs": [
    {
     "data": {
      "text/plain": [
       "6"
      ]
     },
     "execution_count": 27,
     "metadata": {},
     "output_type": "execute_result"
    }
   ],
   "source": [
    "a.size"
   ]
  },
  {
   "cell_type": "markdown",
   "metadata": {
    "id": "-ljiUQJcTeaI"
   },
   "source": [
    "**Operações com Arrays**"
   ]
  },
  {
   "cell_type": "code",
   "execution_count": 28,
   "metadata": {
    "id": "v29wRPK9TeaI"
   },
   "outputs": [],
   "source": [
    "a = np.array([1.3,2.5,10.1])\n",
    "b = np.array([9.3,0.2,1.2])"
   ]
  },
  {
   "cell_type": "code",
   "execution_count": 29,
   "metadata": {
    "id": "e16DsbAYTeaI"
   },
   "outputs": [
    {
     "name": "stdout",
     "output_type": "stream",
     "text": [
      "[1.14017543 1.58113883 3.17804972]\n"
     ]
    }
   ],
   "source": [
    "c = np.sqrt(a)\n",
    "print(c)"
   ]
  },
  {
   "cell_type": "markdown",
   "metadata": {
    "id": "cTrJTy4_TeaI"
   },
   "source": [
    "Arrays - Slicing"
   ]
  },
  {
   "cell_type": "code",
   "execution_count": 30,
   "metadata": {
    "id": "WrLqnzaYTeaJ"
   },
   "outputs": [
    {
     "data": {
      "text/plain": [
       "array([1., 2., 3., 4., 5., 6.])"
      ]
     },
     "execution_count": 30,
     "metadata": {},
     "output_type": "execute_result"
    }
   ],
   "source": [
    "a = np.linspace(1,6,6); a"
   ]
  },
  {
   "cell_type": "code",
   "execution_count": null,
   "metadata": {
    "id": "ZQ-DHFRrTeaJ"
   },
   "outputs": [],
   "source": []
  },
  {
   "cell_type": "markdown",
   "metadata": {
    "id": "fAjDVn7haKpF"
   },
   "source": [
    "**Álgebra Linear com Numpy**"
   ]
  },
  {
   "cell_type": "code",
   "execution_count": 31,
   "metadata": {
    "colab": {
     "base_uri": "https://localhost:8080/"
    },
    "executionInfo": {
     "elapsed": 266,
     "status": "ok",
     "timestamp": 1666202552171,
     "user": {
      "displayName": "Andre Asevedo Nepomuceno",
      "userId": "10675179558870620545"
     },
     "user_tz": 180
    },
    "id": "WpSRSDiZaS3B",
    "outputId": "fa881ec8-f093-4c41-cfd9-a487f8e4375f"
   },
   "outputs": [
    {
     "name": "stdout",
     "output_type": "stream",
     "text": [
      "[[ 0.   0.5]\n",
      " [-1.   2. ]] \n",
      "\n",
      "[[ 2.  -0.5]\n",
      " [ 3.   1.5]]\n"
     ]
    }
   ],
   "source": [
    "A = np.array([[0,0.5], [-1,2]])\n",
    "B = np. array([[2, -0.5] , [3, 1.5]])\n",
    "print(A,'\\n'); print(B)"
   ]
  },
  {
   "cell_type": "code",
   "execution_count": 32,
   "metadata": {
    "colab": {
     "base_uri": "https://localhost:8080/"
    },
    "executionInfo": {
     "elapsed": 12,
     "status": "ok",
     "timestamp": 1666202604405,
     "user": {
      "displayName": "Andre Asevedo Nepomuceno",
      "userId": "10675179558870620545"
     },
     "user_tz": 180
    },
    "id": "j-MmPAqpaUPB",
    "outputId": "45b7f6f0-04b0-4bf5-968a-e9ba76561255"
   },
   "outputs": [
    {
     "data": {
      "text/plain": [
       "array([[1.5 , 0.75],\n",
       "       [4.  , 3.5 ]])"
      ]
     },
     "execution_count": 32,
     "metadata": {},
     "output_type": "execute_result"
    }
   ],
   "source": [
    "#produto de matrizes\n",
    "np.dot(A,B)"
   ]
  },
  {
   "cell_type": "code",
   "execution_count": 33,
   "metadata": {
    "colab": {
     "base_uri": "https://localhost:8080/"
    },
    "executionInfo": {
     "elapsed": 322,
     "status": "ok",
     "timestamp": 1666202649900,
     "user": {
      "displayName": "Andre Asevedo Nepomuceno",
      "userId": "10675179558870620545"
     },
     "user_tz": 180
    },
    "id": "NbbjaYIAahCc",
    "outputId": "96bd2cd7-33ee-4a8e-dc53-cfff02fe2601"
   },
   "outputs": [
    {
     "data": {
      "text/plain": [
       "array([[ 0.  , -0.25],\n",
       "       [-3.  ,  3.  ]])"
      ]
     },
     "execution_count": 33,
     "metadata": {},
     "output_type": "execute_result"
    }
   ],
   "source": [
    "#produto dos elementos\n",
    "A*B"
   ]
  },
  {
   "cell_type": "code",
   "execution_count": 34,
   "metadata": {
    "colab": {
     "base_uri": "https://localhost:8080/"
    },
    "executionInfo": {
     "elapsed": 237,
     "status": "ok",
     "timestamp": 1666202672996,
     "user": {
      "displayName": "Andre Asevedo Nepomuceno",
      "userId": "10675179558870620545"
     },
     "user_tz": 180
    },
    "id": "ZQIDlDW5asFi",
    "outputId": "7dca5543-b886-42f2-a80f-f2faeba52b6e"
   },
   "outputs": [
    {
     "data": {
      "text/plain": [
       "array([[ 0. , -1. ],\n",
       "       [ 0.5,  2. ]])"
      ]
     },
     "execution_count": 34,
     "metadata": {},
     "output_type": "execute_result"
    }
   ],
   "source": [
    "#Transposta\n",
    "A.T   #ou A.transpose()"
   ]
  },
  {
   "cell_type": "markdown",
   "metadata": {
    "id": "PZ4vQheLbDUO"
   },
   "source": [
    "Sistemas Lineares"
   ]
  },
  {
   "cell_type": "code",
   "execution_count": 35,
   "metadata": {
    "colab": {
     "base_uri": "https://localhost:8080/"
    },
    "executionInfo": {
     "elapsed": 12,
     "status": "ok",
     "timestamp": 1666202819631,
     "user": {
      "displayName": "Andre Asevedo Nepomuceno",
      "userId": "10675179558870620545"
     },
     "user_tz": 180
    },
    "id": "QVxBr01QaxrS",
    "outputId": "2ebe309c-b9f1-4f64-a2c6-36c542829b4b"
   },
   "outputs": [
    {
     "name": "stdout",
     "output_type": "stream",
     "text": [
      "[[ 3. -2.  0.]\n",
      " [-2.  1. -3.]\n",
      " [ 4.  6.  1.]]\n"
     ]
    }
   ],
   "source": [
    "M = np.array([ [3., -2, 0], [-2, 1, -3],[4, 6, 1]])\n",
    "print(M)"
   ]
  },
  {
   "cell_type": "code",
   "execution_count": 36,
   "metadata": {
    "colab": {
     "base_uri": "https://localhost:8080/"
    },
    "executionInfo": {
     "elapsed": 239,
     "status": "ok",
     "timestamp": 1666202846293,
     "user": {
      "displayName": "Andre Asevedo Nepomuceno",
      "userId": "10675179558870620545"
     },
     "user_tz": 180
    },
    "id": "SUqz4zynbTKU",
    "outputId": "9372ab62-bb63-4df0-bd25-07c61d0f3db1"
   },
   "outputs": [
    {
     "name": "stdout",
     "output_type": "stream",
     "text": [
      "[  8 -20   7]\n"
     ]
    }
   ],
   "source": [
    "b = np.array([8, -20, 7])\n",
    "print(b)"
   ]
  },
  {
   "cell_type": "code",
   "execution_count": 37,
   "metadata": {
    "colab": {
     "base_uri": "https://localhost:8080/"
    },
    "executionInfo": {
     "elapsed": 16,
     "status": "ok",
     "timestamp": 1666202948491,
     "user": {
      "displayName": "Andre Asevedo Nepomuceno",
      "userId": "10675179558870620545"
     },
     "user_tz": 180
    },
    "id": "yruUgpuObcAJ",
    "outputId": "4efc1dfd-3445-4265-c8bb-8e110c73f1f7"
   },
   "outputs": [
    {
     "name": "stdout",
     "output_type": "stream",
     "text": [
      "x = 2.00, -1.00, 5.00\n"
     ]
    }
   ],
   "source": [
    "x, y, z = np.linalg.solve(M,b)\n",
    "print(f'x = {x:.2f}, {y:.2f}, {z:.2f}')"
   ]
  },
  {
   "cell_type": "markdown",
   "metadata": {
    "id": "aj9XtmP3b8j_"
   },
   "source": [
    "**Exemplo:** \\\n",
    "Vamos escrever o sistema na forma matricial (RI = V)\n",
    "\\begin{gather}\n",
    "\\begin{pmatrix}\n",
    "50 & 0 & -30\\\\\n",
    "0 & 40 & -20 \\\\\n",
    "-30 & -20 & 100\n",
    "\\end{pmatrix}\n",
    "\\begin{pmatrix}\n",
    "I_1 \\\\\n",
    "I_2 \\\\\n",
    "I_3\n",
    "\\end{pmatrix}\n",
    "= \n",
    "\\begin{pmatrix}\n",
    "80\\\\\n",
    "80\\\\\n",
    "0\n",
    "\\end{pmatrix}\n",
    "\\end{gather}"
   ]
  },
  {
   "cell_type": "code",
   "execution_count": 38,
   "metadata": {
    "executionInfo": {
     "elapsed": 295,
     "status": "ok",
     "timestamp": 1666203028497,
     "user": {
      "displayName": "Andre Asevedo Nepomuceno",
      "userId": "10675179558870620545"
     },
     "user_tz": 180
    },
    "id": "j-7gCAChbdh1"
   },
   "outputs": [],
   "source": [
    "R = np.array([[50, 0, -30], [0, 40, -20], [-30, -20, 100]])\n",
    "V = np.array([80,80,0])              "
   ]
  },
  {
   "cell_type": "code",
   "execution_count": 39,
   "metadata": {
    "colab": {
     "base_uri": "https://localhost:8080/"
    },
    "executionInfo": {
     "elapsed": 251,
     "status": "ok",
     "timestamp": 1666203066943,
     "user": {
      "displayName": "Andre Asevedo Nepomuceno",
      "userId": "10675179558870620545"
     },
     "user_tz": 180
    },
    "id": "dwGEfyKDcIhF",
    "outputId": "98355a5e-bb9c-4cce-fbd7-d100fe344449"
   },
   "outputs": [
    {
     "name": "stdout",
     "output_type": "stream",
     "text": [
      "I1 = 2.33 A\n",
      "I2 = 2.61 A\n",
      "I3 = 1.22 A\n"
     ]
    }
   ],
   "source": [
    "I1, I2, I3 = np.linalg.solve(R,V)\n",
    "print(f'I1 = {I1:.2f} A')\n",
    "print(f'I2 = {I2:.2f} A')\n",
    "print(f'I3 = {I3:.2f} A')"
   ]
  },
  {
   "cell_type": "markdown",
   "metadata": {
    "id": "ef1FTs-oTeaJ"
   },
   "source": [
    "**Abrindo arquivo com numpy.loadtxt**"
   ]
  },
  {
   "cell_type": "code",
   "execution_count": 40,
   "metadata": {
    "id": "debnVurxTeaJ"
   },
   "outputs": [],
   "source": [
    "data1 = np.loadtxt('millikan.txt')"
   ]
  },
  {
   "cell_type": "code",
   "execution_count": 41,
   "metadata": {
    "id": "0cDRghl8TeaK"
   },
   "outputs": [
    {
     "data": {
      "text/plain": [
       "array([[5.4874e+14, 5.3090e-01],\n",
       "       [6.9310e+14, 1.0842e+00],\n",
       "       [7.4307e+14, 1.2734e+00]])"
      ]
     },
     "execution_count": 41,
     "metadata": {},
     "output_type": "execute_result"
    }
   ],
   "source": [
    "data1[:3]"
   ]
  },
  {
   "cell_type": "code",
   "execution_count": 42,
   "metadata": {
    "id": "5pjo84rATeaK"
   },
   "outputs": [
    {
     "data": {
      "text/plain": [
       "array([5.4874e+14, 6.9310e+14, 7.4307e+14, 8.2193e+14, 9.6074e+14,\n",
       "       1.1840e+15])"
      ]
     },
     "execution_count": 42,
     "metadata": {},
     "output_type": "execute_result"
    }
   ],
   "source": [
    "data_x = data1[:,0]\n",
    "data_x"
   ]
  },
  {
   "cell_type": "code",
   "execution_count": 43,
   "metadata": {
    "id": "30eCf3oeTeaK"
   },
   "outputs": [
    {
     "data": {
      "text/plain": [
       "array([0.5309 , 1.0842 , 1.2734 , 1.6598 , 2.19856, 3.10891])"
      ]
     },
     "execution_count": 43,
     "metadata": {},
     "output_type": "execute_result"
    }
   ],
   "source": [
    "data_y = data1[:,1]\n",
    "data_y"
   ]
  },
  {
   "cell_type": "markdown",
   "metadata": {
    "id": "Wj_PKC6RTeaL"
   },
   "source": [
    "Salvando arquivo com np.savetxt"
   ]
  },
  {
   "cell_type": "code",
   "execution_count": 44,
   "metadata": {
    "id": "VgtFLcurTeaL"
   },
   "outputs": [],
   "source": [
    "x = np.linspace(0,1,100)\n",
    "y = 3*np.sin(x)**3 - np.sin(x)\n",
    "np.savetxt('xy_values.dat',list(zip(x,y)),fmt='%8.3f',header='x_v  y_v')  #header"
   ]
  },
  {
   "cell_type": "markdown",
   "metadata": {
    "id": "8Ty4IDq6TeaL"
   },
   "source": [
    "**Gráficos - Matplotlib**"
   ]
  },
  {
   "cell_type": "code",
   "execution_count": 45,
   "metadata": {
    "executionInfo": {
     "elapsed": 660,
     "status": "ok",
     "timestamp": 1666203141731,
     "user": {
      "displayName": "Andre Asevedo Nepomuceno",
      "userId": "10675179558870620545"
     },
     "user_tz": 180
    },
    "id": "KailQ5dPTeaL"
   },
   "outputs": [],
   "source": [
    "import numpy as np, matplotlib.pyplot as plt \n",
    "%matplotlib inline"
   ]
  },
  {
   "cell_type": "code",
   "execution_count": 46,
   "metadata": {
    "colab": {
     "base_uri": "https://localhost:8080/",
     "height": 282
    },
    "executionInfo": {
     "elapsed": 839,
     "status": "ok",
     "timestamp": 1666203248054,
     "user": {
      "displayName": "Andre Asevedo Nepomuceno",
      "userId": "10675179558870620545"
     },
     "user_tz": 180
    },
    "id": "2-eCbfggTeaM",
    "outputId": "dcd68411-dbda-4cea-a99f-6505c2eb496c"
   },
   "outputs": [
    {
     "data": {
      "text/plain": [
       "[<matplotlib.lines.Line2D at 0x7f008c141bb0>]"
      ]
     },
     "execution_count": 46,
     "metadata": {},
     "output_type": "execute_result"
    },
    {
     "data": {
      "image/png": "[encoded data removed]",
      "text/plain": [
       "<Figure size 432x288 with 1 Axes>"
      ]
     },
     "metadata": {
      "needs_background": "light"
     },
     "output_type": "display_data"
    }
   ],
   "source": [
    "x = np.linspace(-3*np.pi,3*np.pi,100)\n",
    "y = np.sin(x)\n",
    "z = np.cos(x)\n",
    "plt.plot(x,y)\n",
    "#plt.plot(x,z)\n",
    "#plt.xlim(0,7)\n",
    "#plt.ylim(-1.5,1.5)\n",
    "#plt.xlabel('Eixo X',fontsize=12)\n",
    "#plt.ylabel('Eixo Y',fontsize=12)\n",
    "#plt.legend(loc=2)\n",
    "#plt.plot(x,y,'r--',marker='o',mec='r',mfc='w',markersize=6,label='sen(x)')\n",
    "#plt.plot(x,z,c='b',label='cos(x)')\n",
    "#plt.legend(loc=3,fontsize=12,frameon=False)\n",
    "#plt.savefig('my_plot.pdf')\n",
    "#ax = plt.gca()\n",
    "#ax.tick_params(labelsize=15)"
   ]
  },
  {
   "cell_type": "markdown",
   "metadata": {
    "id": "tcM-51UQTeaM"
   },
   "source": [
    "**Gráfico de Barras**"
   ]
  },
  {
   "cell_type": "code",
   "execution_count": 47,
   "metadata": {
    "colab": {
     "base_uri": "https://localhost:8080/",
     "height": 296
    },
    "executionInfo": {
     "elapsed": 711,
     "status": "ok",
     "timestamp": 1666203302451,
     "user": {
      "displayName": "Andre Asevedo Nepomuceno",
      "userId": "10675179558870620545"
     },
     "user_tz": 180
    },
    "id": "VNZjI3pSTeaN",
    "outputId": "09a3b532-3adf-4c93-afa6-609f655c51b5"
   },
   "outputs": [
    {
     "data": {
      "text/plain": [
       "Text(0, 0.5, 'Consumo em milhares de sacas')"
      ]
     },
     "execution_count": 47,
     "metadata": {},
     "output_type": "execute_result"
    },
    {
     "data": {
      "image/png": "[encoded data removed]",
      "text/plain": [
       "<Figure size 432x288 with 1 Axes>"
      ]
     },
     "metadata": {
      "needs_background": "light"
     },
     "output_type": "display_data"
    }
   ],
   "source": [
    "anos = np.arange(2014,2021)\n",
    "consumo = np.array([327,392,490,643,806,981,1171])\n",
    "#plt.bar(anos,consumo)\n",
    "plt.bar(anos, consumo, width=0.6,color='g',edgecolor=None)\n",
    "plt.xlabel('Anos')\n",
    "plt.ylabel('Consumo em milhares de sacas')"
   ]
  },
  {
   "cell_type": "markdown",
   "metadata": {
    "id": "O7fS6UkwTeaN"
   },
   "source": [
    "**Gráfico de Dispersão**"
   ]
  },
  {
   "cell_type": "code",
   "execution_count": 48,
   "metadata": {
    "colab": {
     "base_uri": "https://localhost:8080/",
     "height": 268
    },
    "executionInfo": {
     "elapsed": 834,
     "status": "ok",
     "timestamp": 1666203327619,
     "user": {
      "displayName": "Andre Asevedo Nepomuceno",
      "userId": "10675179558870620545"
     },
     "user_tz": 180
    },
    "id": "2ekL8ygKTeaO",
    "outputId": "82d6220d-3906-44d2-8c3d-8773fdeca197"
   },
   "outputs": [
    {
     "data": {
      "image/png": "[encoded data removed]",
      "text/plain": [
       "<Figure size 432x288 with 2 Axes>"
      ]
     },
     "metadata": {
      "needs_background": "light"
     },
     "output_type": "display_data"
    }
   ],
   "source": [
    "x = np.random.randn(100)\n",
    "y = np.random.randn(100)\n",
    "colors = np.random.rand(100)\n",
    "sizes = 1000*np.random.rand(100)\n",
    "plt.scatter(x, y, c=colors, s=sizes, alpha=0.3)\n",
    "plt.colorbar()\n",
    "plt.tick_params(labelsize=13)"
   ]
  },
  {
   "cell_type": "markdown",
   "metadata": {
    "id": "MtQ_uwcuTeaO"
   },
   "source": [
    "**Meshgrid()**"
   ]
  },
  {
   "cell_type": "code",
   "execution_count": 49,
   "metadata": {
    "id": "tx9Vjn5tTeaO"
   },
   "outputs": [],
   "source": [
    "#Exemplo com meshgrid\n",
    "#x = np.linspace(-3,3,21)\n",
    "#y = np.linspace(0,10,11)\n",
    "#X,Y = np.meshgrid(x,y)"
   ]
  },
  {
   "cell_type": "code",
   "execution_count": 50,
   "metadata": {
    "id": "d4C1PEAYTeaO"
   },
   "outputs": [],
   "source": [
    "#print('Forma de x:',x.shape)\n",
    "#print('Forma de x:',X.shape)\n",
    "#print(X[:4])"
   ]
  },
  {
   "cell_type": "code",
   "execution_count": 51,
   "metadata": {
    "id": "c5HKx92ATeaP"
   },
   "outputs": [],
   "source": [
    "#Mapa de Calor\n",
    "#x = np.linspace(0,5,50)\n",
    "#y = np.linspace(0,5,50)\n",
    "#X,Y = np.meshgrid(x,y)\n",
    "#Z =  np.sin(X)**10 + np.cos(10 + Y*X)*np.cos(X)\n",
    "#fig, ax = plt.subplots(figsize=(8,5))\n",
    "#plt.imshow(Z)\n",
    "#plt.imshow(Z, extent=[0, 5, 0, 5], origin='lower', \n",
    "#          interpolation='bilinear',cmap='RdGy')\n",
    "#plt.colorbar()"
   ]
  },
  {
   "cell_type": "markdown",
   "metadata": {
    "id": "_qga1RygpTsw"
   },
   "source": [
    "Exemplo - Dados Imobiliários"
   ]
  },
  {
   "cell_type": "code",
   "execution_count": 52,
   "metadata": {
    "executionInfo": {
     "elapsed": 471,
     "status": "ok",
     "timestamp": 1666209235417,
     "user": {
      "displayName": "Andre Asevedo Nepomuceno",
      "userId": "10675179558870620545"
     },
     "user_tz": 180
    },
    "id": "cXoGs-6DpWf6"
   },
   "outputs": [],
   "source": [
    "#Abrir arquivo:\n",
    "data = np.loadtxt('housing_tutorial.csv',delimiter=',')"
   ]
  },
  {
   "cell_type": "code",
   "execution_count": 53,
   "metadata": {
    "colab": {
     "base_uri": "https://localhost:8080/"
    },
    "executionInfo": {
     "elapsed": 264,
     "status": "ok",
     "timestamp": 1666209249417,
     "user": {
      "displayName": "Andre Asevedo Nepomuceno",
      "userId": "10675179558870620545"
     },
     "user_tz": 180
    },
    "id": "JRWU4tInzz6d",
    "outputId": "00cd4483-be35-454f-81f4-8ceda8a3f08e"
   },
   "outputs": [
    {
     "data": {
      "text/plain": [
       "array([[ 0.0000e+00, -1.2223e+02,  3.7880e+01,  4.1000e+01,  8.8000e+02,\n",
       "         1.2900e+02,  3.2200e+02,  1.2600e+02,  8.3252e+00,  4.5260e+05],\n",
       "       [ 0.0000e+00, -1.2222e+02,  3.7860e+01,  2.1000e+01,  7.0990e+03,\n",
       "         1.1060e+03,  2.4010e+03,  1.1380e+03,  8.3014e+00,  3.5850e+05],\n",
       "       [ 1.0000e+00, -1.2224e+02,  3.7850e+01,  5.2000e+01,  1.4670e+03,\n",
       "         1.9000e+02,  4.9600e+02,  1.7700e+02,  7.2574e+00,  3.5210e+05],\n",
       "       [ 2.0000e+00, -1.2225e+02,  3.7850e+01,  5.2000e+01,  1.2740e+03,\n",
       "         2.3500e+02,  5.5800e+02,  2.1900e+02,  5.6431e+00,  3.4130e+05],\n",
       "       [ 3.0000e+00, -1.2225e+02,  3.7850e+01,  5.2000e+01,  1.6270e+03,\n",
       "         2.8000e+02,  5.6500e+02,  2.5900e+02,  3.8462e+00,  3.4220e+05],\n",
       "       [ 4.0000e+00, -1.2225e+02,  3.7850e+01,  5.2000e+01,  9.1900e+02,\n",
       "         2.1300e+02,  4.1300e+02,  1.9300e+02,  4.0368e+00,  2.6970e+05],\n",
       "       [ 5.0000e+00, -1.2225e+02,  3.7840e+01,  5.2000e+01,  2.5350e+03,\n",
       "         4.8900e+02,  1.0940e+03,  5.1400e+02,  3.6591e+00,  2.9920e+05],\n",
       "       [ 6.0000e+00, -1.2225e+02,  3.7840e+01,  5.2000e+01,  3.1040e+03,\n",
       "         6.8700e+02,  1.1570e+03,  6.4700e+02,  3.1200e+00,  2.4140e+05],\n",
       "       [ 7.0000e+00, -1.2226e+02,  3.7840e+01,  4.2000e+01,  2.5550e+03,\n",
       "         6.6500e+02,  1.2060e+03,  5.9500e+02,  2.0804e+00,  2.2670e+05],\n",
       "       [ 8.0000e+00, -1.2225e+02,  3.7840e+01,  5.2000e+01,  3.5490e+03,\n",
       "         7.0700e+02,  1.5510e+03,  7.1400e+02,  3.6912e+00,  2.6110e+05]])"
      ]
     },
     "execution_count": 53,
     "metadata": {},
     "output_type": "execute_result"
    }
   ],
   "source": [
    "data[:10]"
   ]
  },
  {
   "cell_type": "code",
   "execution_count": 54,
   "metadata": {},
   "outputs": [
    {
     "data": {
      "text/plain": [
       "(20433, 10)"
      ]
     },
     "execution_count": 54,
     "metadata": {},
     "output_type": "execute_result"
    }
   ],
   "source": [
    "data.shape"
   ]
  },
  {
   "cell_type": "code",
   "execution_count": 55,
   "metadata": {
    "colab": {
     "base_uri": "https://localhost:8080/",
     "height": 269
    },
    "executionInfo": {
     "elapsed": 2366,
     "status": "ok",
     "timestamp": 1666209475395,
     "user": {
      "displayName": "Andre Asevedo Nepomuceno",
      "userId": "10675179558870620545"
     },
     "user_tz": 180
    },
    "id": "xjOX1kgkzr_V",
    "outputId": "c8ab6eb6-1077-478a-b5cb-6493986d1d82"
   },
   "outputs": [],
   "source": [
    "#scatter plot\n",
    "#meuplot = plt.scatter(data[:,1],data[:,2],s=data[:,3],c=data[:,-1]/10000.)\n",
    "#cbar = plt.colorbar(meuplot)\n",
    "#cbar.set_label('Preço Medio (x 10000)',fontsize=12,labelpad=13)"
   ]
  },
  {
   "cell_type": "markdown",
   "metadata": {
    "id": "rEdcueFUzeLe"
   },
   "source": [
    "**Python Científico - SciyPy**"
   ]
  },
  {
   "cell_type": "code",
   "execution_count": 56,
   "metadata": {
    "id": "RdyOqRKJTeaP"
   },
   "outputs": [],
   "source": [
    "from scipy.optimize import brentq, newton, fsolve\n",
    "from scipy.optimize import curve_fit\n",
    "from scipy.integrate import quad\n",
    "from scipy.integrate import solve_ivp"
   ]
  },
  {
   "cell_type": "markdown",
   "metadata": {},
   "source": [
    "**Definindo Funções**"
   ]
  },
  {
   "cell_type": "code",
   "execution_count": null,
   "metadata": {},
   "outputs": [],
   "source": []
  },
  {
   "cell_type": "markdown",
   "metadata": {},
   "source": [
    "**1. Raízes de Funções**"
   ]
  },
  {
   "cell_type": "markdown",
   "metadata": {},
   "source": [
    "Exemplo:\n",
    "\\begin{equation}\n",
    "    f(x) \\, = \\, \\frac{1}{5} + x \\textrm{cos} \\left ( \\frac{3}{x} \\right ).\n",
    "    \\nonumber\n",
    "\\end{equation}"
   ]
  },
  {
   "cell_type": "code",
   "execution_count": 57,
   "metadata": {},
   "outputs": [
    {
     "data": {
      "text/plain": [
       "<matplotlib.lines.Line2D at 0x7f008a2c20a0>"
      ]
     },
     "execution_count": 57,
     "metadata": {},
     "output_type": "execute_result"
    },
    {
     "data": {
      "image/png": "[encoded data removed]",
      "text/plain": [
       "<Figure size 432x288 with 1 Axes>"
      ]
     },
     "metadata": {
      "needs_background": "light"
     },
     "output_type": "display_data"
    }
   ],
   "source": [
    "f1 = lambda x: 0.2 + x*np.cos(3/x)\n",
    "x = np.linspace(-1,1,200)\n",
    "plt.plot(x,f1(x))\n",
    "plt.axhline(0, c='k',ls='--')"
   ]
  },
  {
   "cell_type": "code",
   "execution_count": 58,
   "metadata": {},
   "outputs": [
    {
     "name": "stdout",
     "output_type": "stream",
     "text": [
      "1.0\n",
      "-1.0\n"
     ]
    }
   ],
   "source": [
    "#intervalo [-0.7,-0.5]\n",
    "print(np.sign(f1(-0.7)))\n",
    "print(np.sign(f1(-0.5)))"
   ]
  },
  {
   "cell_type": "code",
   "execution_count": 59,
   "metadata": {
    "id": "QVw1KIVPTeaP"
   },
   "outputs": [
    {
     "data": {
      "text/plain": [
       "-0.5933306271014237"
      ]
     },
     "execution_count": 59,
     "metadata": {},
     "output_type": "execute_result"
    }
   ],
   "source": [
    "#calcule as raizes\n",
    "brentq(f1,-0.7,-0.5)"
   ]
  },
  {
   "cell_type": "markdown",
   "metadata": {},
   "source": [
    "**2. Ajuste de  Curvas**"
   ]
  },
  {
   "cell_type": "code",
   "execution_count": 60,
   "metadata": {},
   "outputs": [],
   "source": [
    "#difinir a função f(x) (Lorentziana)\n",
    "def f(x,x0,A,gamma):\n",
    "    return A*gamma**2/(gamma**2 + (x-x0)**2)   "
   ]
  },
  {
   "cell_type": "code",
   "execution_count": 61,
   "metadata": {},
   "outputs": [],
   "source": [
    "#Vamos simular alguns dados\n",
    "npoints = 100\n",
    "x = np.linspace(1,20,npoints)\n",
    "x0, A, gamma = 12,3,5\n",
    "yexato = f(x,x0,A,gamma)\n",
    "erro_y = np.ones(npoints)*0.7\n",
    "ydata = yexato + np.random.randn(npoints)*erro_y"
   ]
  },
  {
   "cell_type": "code",
   "execution_count": 62,
   "metadata": {},
   "outputs": [
    {
     "name": "stdout",
     "output_type": "stream",
     "text": [
      "[11.94476882  2.8991832   5.28732957]\n",
      "[[ 0.08030763 -0.00128836  0.0087987 ]\n",
      " [-0.00128836  0.02462915 -0.05366193]\n",
      " [ 0.0087987  -0.05366193  0.22803795]]\n"
     ]
    }
   ],
   "source": [
    "#Ajuste com os erros\n",
    "p0 = [10,4,2]\n",
    "params, pcov = curve_fit(f,x,ydata,p0, sigma=erro_y, absolute_sigma=True,check_finite=True)\n",
    "print(params)\n",
    "print(pcov)"
   ]
  },
  {
   "cell_type": "code",
   "execution_count": 63,
   "metadata": {},
   "outputs": [
    {
     "name": "stdout",
     "output_type": "stream",
     "text": [
      "[0.283386   0.15693676 0.47753319]\n"
     ]
    }
   ],
   "source": [
    "#Erro nos parametros:\n",
    "err_par = np.sqrt(np.diag(pcov))\n",
    "print(err_par)"
   ]
  },
  {
   "cell_type": "code",
   "execution_count": 64,
   "metadata": {},
   "outputs": [
    {
     "data": {
      "text/plain": [
       "Text(9, 0.1, '$\\\\gamma$  = 5.29 $\\\\pm$ 0.48')"
      ]
     },
     "execution_count": 64,
     "metadata": {},
     "output_type": "execute_result"
    },
    {
     "data": {
      "image/png": "[encoded data removed]",
      "text/plain": [
       "<Figure size 432x288 with 1 Axes>"
      ]
     },
     "metadata": {
      "needs_background": "light"
     },
     "output_type": "display_data"
    }
   ],
   "source": [
    "#Comparar os resultados graficamente\n",
    "yfit = f(x,*params)\n",
    "plt.errorbar(x,ydata,yerr=erro_y, color = 'k',elinewidth=0.8,lw=0,marker='.',label='Dados')\n",
    "plt.plot(x,yexato,c='b',label='Exato')\n",
    "plt.plot(x,yfit,c='r',label='Ajuste')\n",
    "plt.ylim(-1,5)\n",
    "plt.legend(frameon=False,loc='upper left',fontsize=12)\n",
    "info1 = '$x_0$ = {:.2f} $\\pm$ {:.2f}'.format(params[0],err_par[0])\n",
    "info2 = '$\\gamma$  = {:.2f} $\\pm$ {:.2f}'.format(params[2],err_par[2])\n",
    "plt.text(9,-0.6,info1,fontsize=12)\n",
    "plt.text(9,0.1,info2,fontsize=12)"
   ]
  },
  {
   "cell_type": "markdown",
   "metadata": {},
   "source": [
    "**3. Integração Numérica**"
   ]
  },
  {
   "cell_type": "code",
   "execution_count": 65,
   "metadata": {},
   "outputs": [],
   "source": [
    "f1 = lambda x: 1/x**(2)"
   ]
  },
  {
   "cell_type": "code",
   "execution_count": 66,
   "metadata": {},
   "outputs": [
    {
     "data": {
      "text/plain": [
       "(0.7500000000000002, 1.913234548258995e-09)"
      ]
     },
     "execution_count": 66,
     "metadata": {},
     "output_type": "execute_result"
    }
   ],
   "source": [
    "quad(f1,a=1,b=4)"
   ]
  },
  {
   "cell_type": "code",
   "execution_count": 67,
   "metadata": {},
   "outputs": [],
   "source": [
    "f2 = lambda x: 1/np.sqrt(np.abs(x))"
   ]
  },
  {
   "cell_type": "code",
   "execution_count": 68,
   "metadata": {},
   "outputs": [
    {
     "data": {
      "text/plain": [
       "(3.9999999999999813, 5.684341886080802e-14)"
      ]
     },
     "execution_count": 68,
     "metadata": {},
     "output_type": "execute_result"
    }
   ],
   "source": [
    "quad(f2,-1,1,points=[0])"
   ]
  },
  {
   "cell_type": "markdown",
   "metadata": {},
   "source": [
    "**4. Equações Diferenciais**"
   ]
  },
  {
   "cell_type": "markdown",
   "metadata": {},
   "source": [
    "Exemplo 1 - Uma eq. de primeira ordem\n",
    "\\begin{equation}\n",
    "    \\frac{dy}{dt} \\,=\\, - ky \\nonumber\n",
    "\\end{equation}"
   ]
  },
  {
   "cell_type": "code",
   "execution_count": 69,
   "metadata": {},
   "outputs": [],
   "source": [
    "k = 0.2\n",
    "#valor de y em t = 0\n",
    "y0 = 100\n",
    "#intervalo de tempo\n",
    "t0, tf = 0,20\n",
    "t = np.linspace(0,20,100)\n",
    "def dydt(t,y):\n",
    "    return -k*y"
   ]
  },
  {
   "cell_type": "code",
   "execution_count": 70,
   "metadata": {},
   "outputs": [
    {
     "data": {
      "text/plain": [
       "  message: 'The solver successfully reached the end of the integration interval.'\n",
       "     nfev: 44\n",
       "     njev: 0\n",
       "      nlu: 0\n",
       "      sol: None\n",
       "   status: 0\n",
       "  success: True\n",
       "        t: array([ 0.        ,  0.13797324,  1.51770566,  6.11233264, 10.4942851 ,\n",
       "       14.88942184, 19.28378064, 20.        ])\n",
       " t_events: None\n",
       "        y: array([[100.        ,  97.27826059,  73.81996665,  29.46989971,\n",
       "         12.27361105,   5.09829981,   2.11809624,   1.83542088]])\n",
       " y_events: None"
      ]
     },
     "execution_count": 70,
     "metadata": {},
     "output_type": "execute_result"
    }
   ],
   "source": [
    "solve_ivp (dydt , (t0 , tf), y0=[y0])"
   ]
  },
  {
   "cell_type": "code",
   "execution_count": 71,
   "metadata": {},
   "outputs": [
    {
     "data": {
      "text/plain": [
       "array([[100.        ,  96.04012889,  92.23703568,  88.58454262,\n",
       "         85.07670718,  81.70780077,  78.47230873,  75.36493029,\n",
       "         72.38024234,  69.51158923,  66.75474526,  64.10596228,\n",
       "         61.56155374,  59.11789472,  56.77142187,  54.51863347,\n",
       "         52.35608938,  50.28041108,  48.28828165,  46.37644577,\n",
       "         44.54170973,  42.78094142,  41.09107033,  39.46908757,\n",
       "         37.91204582,  36.41705941,  34.98130422,  33.60201778,\n",
       "         32.2764992 ,  31.0021092 ,  29.77627011,  28.59699536,\n",
       "         27.46358715,  26.37454374,  25.32833801,  24.32347063,\n",
       "         23.35847004,  22.43189246,  21.54232188,  20.68837007,\n",
       "         19.86867657,  19.08190871,  18.32676158,  17.60195806,\n",
       "         16.9062488 ,  16.23841221,  15.59725452,  14.98160969,\n",
       "         14.39033948,  13.82233342,  13.27650883,  12.75181078,\n",
       "         12.24721279,  11.7620303 ,  11.29576741,  10.84778112,\n",
       "         10.41743986,  10.0041236 ,   9.60722376,   9.22614327,\n",
       "          8.86029654,   8.50910946,   8.17201942,   7.84847529,\n",
       "          7.53793742,   7.23987766,   6.95377934,   6.67913729,\n",
       "          6.4154578 ,   6.16225867,   5.91906918,   5.6854301 ,\n",
       "          5.46089369,   5.24502368,   5.03740457,   4.83780916,\n",
       "          4.64600716,   4.4617326 ,   4.28472429,   4.11472582,\n",
       "          3.95148554,   3.79475659,   3.64429686,   3.49986905,\n",
       "          3.36124059,   3.22818371,   3.10047541,   2.97789747,\n",
       "          2.86023643,   2.74728361,   2.6388351 ,   2.53469176,\n",
       "          2.43465925,   2.33854797,   2.24617311,   2.15735463,\n",
       "          2.07194116,   1.98989499,   1.9110978 ,   1.83542088]])"
      ]
     },
     "execution_count": 71,
     "metadata": {},
     "output_type": "execute_result"
    }
   ],
   "source": [
    "sol1 = solve_ivp (dydt ,(t0, tf), y0=[y0],t_eval=t)\n",
    "sol1.y"
   ]
  },
  {
   "cell_type": "code",
   "execution_count": 72,
   "metadata": {},
   "outputs": [
    {
     "data": {
      "text/plain": [
       "[<matplotlib.lines.Line2D at 0x7f0089d978b0>]"
      ]
     },
     "execution_count": 72,
     "metadata": {},
     "output_type": "execute_result"
    },
    {
     "data": {
      "image/png": "[encoded data removed]",
      "text/plain": [
       "<Figure size 432x288 with 1 Axes>"
      ]
     },
     "metadata": {
      "needs_background": "light"
     },
     "output_type": "display_data"
    }
   ],
   "source": [
    "plt.plot(sol1.t,sol1.y[0],'.r')"
   ]
  },
  {
   "cell_type": "markdown",
   "metadata": {},
   "source": [
    "Exemplo 2 - Sistema de EDOs\n",
    "\\begin{equation}\n",
    "\\frac{dx}{dt} = xy - x, \\;\\;\\;\\;\\; \\frac{dy}{dt} = y -xy + sen^2\\omega t\n",
    "\\end{equation}"
   ]
  },
  {
   "cell_type": "code",
   "execution_count": 73,
   "metadata": {},
   "outputs": [],
   "source": [
    "def edo_sis(t,r,omega):\n",
    "    x,y  = r\n",
    "    dxdt = x*y - x\n",
    "    dydt = y - x*y + np.sin(omega*t)**2\n",
    "    return dxdt, dydt"
   ]
  },
  {
   "cell_type": "code",
   "execution_count": 74,
   "metadata": {},
   "outputs": [],
   "source": [
    "#Agora necessitamos de duas condições iniciais\n",
    "r0 = [1.,1.]\n",
    "t0,tf = 0,10\n",
    "t = np.linspace(0,10,500)\n",
    "omega = 1\n",
    "sol2 = solve_ivp (edo_sis, (t0, tf), y0 = r0,args=(omega,),t_eval=t)"
   ]
  },
  {
   "cell_type": "code",
   "execution_count": 75,
   "metadata": {},
   "outputs": [
    {
     "data": {
      "text/plain": [
       "<matplotlib.legend.Legend at 0x7f0089cfc850>"
      ]
     },
     "execution_count": 75,
     "metadata": {},
     "output_type": "execute_result"
    },
    {
     "data": {
      "image/png": "[encoded data removed]",
      "text/plain": [
       "<Figure size 432x288 with 1 Axes>"
      ]
     },
     "metadata": {
      "needs_background": "light"
     },
     "output_type": "display_data"
    }
   ],
   "source": [
    "#Potar a soluções\n",
    "plt.plot(t,sol2.y[0],lw=2,label='x(t)')\n",
    "plt.plot(t,sol2.y[1],'--r',lw=2,label='y(t)')\n",
    "plt.xlabel('t',fontsize=12)\n",
    "plt.ylabel('f(t)',fontsize=12)\n",
    "plt.legend(fontsize=12,frameon=False)"
   ]
  },
  {
   "cell_type": "markdown",
   "metadata": {},
   "source": [
    "Exemplo 3 - EDOs de Segunda Ordem\n",
    "\\begin{equation}\n",
    "    \\frac{d^2x}{dt^2} \\,=\\, - \\omega^2 x \\nonumber\n",
    "\\end{equation}"
   ]
  },
  {
   "cell_type": "code",
   "execution_count": 76,
   "metadata": {},
   "outputs": [],
   "source": [
    "omega = 0.9\n",
    "A = 3\n",
    "v0 = 0\n",
    "t0,tf = 0,20\n",
    "t = np.linspace(t0,tf,100)"
   ]
  },
  {
   "cell_type": "code",
   "execution_count": 77,
   "metadata": {},
   "outputs": [],
   "source": [
    "def mhs(t,r):\n",
    "    x,v = r\n",
    "    dxdt = v\n",
    "    dvdt = -omega**2*x\n",
    "    return dxdt,dvdt"
   ]
  },
  {
   "cell_type": "code",
   "execution_count": 78,
   "metadata": {},
   "outputs": [],
   "source": [
    "sol3 = solve_ivp(mhs,(t0,tf),y0=[A,v0],t_eval=t)"
   ]
  },
  {
   "cell_type": "code",
   "execution_count": 79,
   "metadata": {},
   "outputs": [
    {
     "data": {
      "text/plain": [
       "<matplotlib.legend.Legend at 0x7f0089cc62e0>"
      ]
     },
     "execution_count": 79,
     "metadata": {},
     "output_type": "execute_result"
    },
    {
     "data": {
      "image/png": "[encoded data removed]",
      "text/plain": [
       "<Figure size 432x288 with 1 Axes>"
      ]
     },
     "metadata": {
      "needs_background": "light"
     },
     "output_type": "display_data"
    }
   ],
   "source": [
    "plt.plot(t,sol3.y[0],'r',label='Posicao')\n",
    "plt.plot(t,sol3.y[1],'b--',label='Velocidade')\n",
    "plt.ylim(-3.2,4.5)\n",
    "plt.legend(frameon=False,fontsize=12,loc='upper right')"
   ]
  }
 ],
 "metadata": {
  "colab": {
   "collapsed_sections": [],
   "provenance": []
  },
  "kernelspec": {
   "display_name": "Python 3 (ipykernel)",
   "language": "python",
   "name": "python3"
  },
  "language_info": {
   "codemirror_mode": {
    "name": "ipython",
    "version": 3
   },
   "file_extension": ".py",
   "mimetype": "text/x-python",
   "name": "python",
   "nbconvert_exporter": "python",
   "pygments_lexer": "ipython3",
   "version": "3.9.12"
  }
 },
 "nbformat": 4,
 "nbformat_minor": 1
}
