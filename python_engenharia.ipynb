{
 "cells": [
  {
   "cell_type": "markdown",
   "metadata": {
    "id": "nUYXTd0tTeZw"
   },
   "source": [
    "# Python para Engenharia\n",
    "## Andre Nepomuceno - UFF\n",
    "### Outubro de 2022"
   ]
  },
  {
   "cell_type": "markdown",
   "metadata": {
    "id": "L03OOe6PTeZy"
   },
   "source": [
    "**Operações Aritméticas**"
   ]
  },
  {
   "cell_type": "code",
   "execution_count": null,
   "metadata": {
    "id": "Gxcs_hygTeZy"
   },
   "outputs": [],
   "source": [
    "3**2.2"
   ]
  },
  {
   "cell_type": "code",
   "execution_count": null,
   "metadata": {
    "colab": {
     "base_uri": "https://localhost:8080/"
    },
    "executionInfo": {
     "elapsed": 30,
     "status": "ok",
     "timestamp": 1666201451011,
     "user": {
      "displayName": "Andre Asevedo Nepomuceno",
      "userId": "10675179558870620545"
     },
     "user_tz": 180
    },
    "id": "DgeDcVvoTeZz",
    "outputId": "42642f46-acdf-4318-9149-1731fbca5594"
   },
   "outputs": [],
   "source": [
    "17%3"
   ]
  },
  {
   "cell_type": "code",
   "execution_count": null,
   "metadata": {
    "colab": {
     "base_uri": "https://localhost:8080/"
    },
    "executionInfo": {
     "elapsed": 27,
     "status": "ok",
     "timestamp": 1666201451014,
     "user": {
      "displayName": "Andre Asevedo Nepomuceno",
      "userId": "10675179558870620545"
     },
     "user_tz": 180
    },
    "id": "dt9tf-wzTeZ0",
    "outputId": "4839b492-2ba0-4ba6-bd98-ebe93360c07a"
   },
   "outputs": [],
   "source": [
    "-17%3"
   ]
  },
  {
   "cell_type": "markdown",
   "metadata": {
    "id": "u9KM25UxTeZ0"
   },
   "source": [
    "**Funções Matemáticas - Módulos**"
   ]
  },
  {
   "cell_type": "code",
   "execution_count": null,
   "metadata": {
    "id": "yfTFv3VaTeZ1"
   },
   "outputs": [],
   "source": [
    "import math\n",
    "math.sqrt(2.)"
   ]
  },
  {
   "cell_type": "markdown",
   "metadata": {
    "id": "jKooQuylTeZ2"
   },
   "source": [
    "**Variáveis**"
   ]
  },
  {
   "cell_type": "code",
   "execution_count": null,
   "metadata": {
    "colab": {
     "base_uri": "https://localhost:8080/"
    },
    "executionInfo": {
     "elapsed": 340,
     "status": "ok",
     "timestamp": 1666201465081,
     "user": {
      "displayName": "Andre Asevedo Nepomuceno",
      "userId": "10675179558870620545"
     },
     "user_tz": 180
    },
    "id": "TygQAkXLTeZ4",
    "outputId": "bdab3945-31a4-4db4-eea5-36d5247f4648"
   },
   "outputs": [],
   "source": [
    "z = 1\n",
    "print(z)\n",
    "z = z +1 #z += 1\n",
    "print(z)"
   ]
  },
  {
   "cell_type": "markdown",
   "metadata": {
    "id": "1rwDUBSyTeZ5"
   },
   "source": [
    "Exemplo - Fórmula de Heron \\\n",
    "$A = \\sqrt{s(s-a)(s-b)(s-c)}$ \\\n",
    "onde $s =  \\frac{1}{2}(a+b+c)$"
   ]
  },
  {
   "cell_type": "code",
   "execution_count": null,
   "metadata": {
    "id": "LLsIxJo7TeZ6"
   },
   "outputs": [],
   "source": [
    "import math\n",
    "a,b,c = 4.5,2.4,3.9\n",
    "s = (a+b+c)/2.\n",
    "area = math.sqrt(s*(s - a)*(s - b)*(s - c))\n",
    "print('A = ',round(area,2))"
   ]
  },
  {
   "cell_type": "markdown",
   "metadata": {
    "id": "ZdC-TSKaTeZ8"
   },
   "source": [
    "**Condições**"
   ]
  },
  {
   "cell_type": "code",
   "execution_count": null,
   "metadata": {
    "colab": {
     "base_uri": "https://localhost:8080/"
    },
    "executionInfo": {
     "elapsed": 14,
     "status": "ok",
     "timestamp": 1666201499205,
     "user": {
      "displayName": "Andre Asevedo Nepomuceno",
      "userId": "10675179558870620545"
     },
     "user_tz": 180
    },
    "id": "wA37DxNbTeZ9",
    "outputId": "e8ba9b2a-a168-4e6a-9d2f-23ed2e13e2bf"
   },
   "outputs": [],
   "source": [
    "x = 7\n",
    "if x < 10:\n",
    "    print(\"Essa linha sera executada se  x < 10.\" )\n",
    "    print(\"Mesmo que a linha acima.\")\n",
    "print(\"Essa linha sera sempre executada.\")"
   ]
  },
  {
   "cell_type": "markdown",
   "metadata": {
    "id": "BK1yrDuWTeZ9"
   },
   "source": [
    "**Loops - while loop**"
   ]
  },
  {
   "cell_type": "code",
   "execution_count": null,
   "metadata": {
    "colab": {
     "base_uri": "https://localhost:8080/"
    },
    "executionInfo": {
     "elapsed": 241,
     "status": "ok",
     "timestamp": 1666201502239,
     "user": {
      "displayName": "Andre Asevedo Nepomuceno",
      "userId": "10675179558870620545"
     },
     "user_tz": 180
    },
    "id": "RvKHruOWTeZ-",
    "outputId": "6e652b00-e122-49cf-d94d-6632232995ea"
   },
   "outputs": [],
   "source": [
    "num = 1\n",
    "while num <= 5:\n",
    "    print( num )\n",
    "    num += 1      #equivalente a num = num+1\n",
    "print( \"Fim!\" )"
   ]
  },
  {
   "cell_type": "markdown",
   "metadata": {
    "id": "TDKEQyxnTeZ_"
   },
   "source": [
    "**Loops - For loops**"
   ]
  },
  {
   "cell_type": "code",
   "execution_count": null,
   "metadata": {
    "colab": {
     "base_uri": "https://localhost:8080/"
    },
    "executionInfo": {
     "elapsed": 853,
     "status": "ok",
     "timestamp": 1666201539151,
     "user": {
      "displayName": "Andre Asevedo Nepomuceno",
      "userId": "10675179558870620545"
     },
     "user_tz": 180
    },
    "id": "-nw2thyoTeZ_",
    "outputId": "b4ebe3cc-0184-4d16-ff88-41467f38c19d"
   },
   "outputs": [],
   "source": [
    "#range() - exemplos\n",
    "for i in range(9):\n",
    "    print(i)"
   ]
  },
  {
   "cell_type": "markdown",
   "metadata": {
    "id": "kuX_6StVTeZ_"
   },
   "source": [
    "**Loops dentro de Loops**"
   ]
  },
  {
   "cell_type": "code",
   "execution_count": null,
   "metadata": {
    "id": "Py0pBBCjTeaA"
   },
   "outputs": [],
   "source": [
    "for i in range(3):\n",
    "    print('Entrando no loop i =',i)\n",
    "    for j in range(4):\n",
    "        print('Entrando no loop j =', j)\n",
    "        print('i,j = ',  i,j)\n",
    "    print('Saindo do primeiro loop com i =', i)\n",
    "print('Fim!')"
   ]
  },
  {
   "cell_type": "markdown",
   "metadata": {
    "id": "N8umH78lTeaA"
   },
   "source": [
    "**Listas - Exemplos**"
   ]
  },
  {
   "cell_type": "code",
   "execution_count": null,
   "metadata": {
    "executionInfo": {
     "elapsed": 376,
     "status": "ok",
     "timestamp": 1666201623074,
     "user": {
      "displayName": "Andre Asevedo Nepomuceno",
      "userId": "10675179558870620545"
     },
     "user_tz": 180
    },
    "id": "xbwvYDaGTeaB"
   },
   "outputs": [],
   "source": [
    "L = [1,2.5,5.69,\"x\"]"
   ]
  },
  {
   "cell_type": "code",
   "execution_count": null,
   "metadata": {
    "colab": {
     "base_uri": "https://localhost:8080/"
    },
    "executionInfo": {
     "elapsed": 12,
     "status": "ok",
     "timestamp": 1666201637117,
     "user": {
      "displayName": "Andre Asevedo Nepomuceno",
      "userId": "10675179558870620545"
     },
     "user_tz": 180
    },
    "id": "x-Pz-OkGTeaB",
    "outputId": "0083bf47-8f1f-4aab-ab75-464fefe495a2"
   },
   "outputs": [],
   "source": [
    "L[1]"
   ]
  },
  {
   "cell_type": "code",
   "execution_count": null,
   "metadata": {
    "colab": {
     "base_uri": "https://localhost:8080/",
     "height": 36
    },
    "executionInfo": {
     "elapsed": 267,
     "status": "ok",
     "timestamp": 1666201662855,
     "user": {
      "displayName": "Andre Asevedo Nepomuceno",
      "userId": "10675179558870620545"
     },
     "user_tz": 180
    },
    "id": "GxYjmF7MW0w4",
    "outputId": "7cd4c3f9-0b69-4c3a-9d99-399ad9c470ff"
   },
   "outputs": [],
   "source": [
    "L[-1]"
   ]
  },
  {
   "cell_type": "code",
   "execution_count": null,
   "metadata": {
    "colab": {
     "base_uri": "https://localhost:8080/"
    },
    "executionInfo": {
     "elapsed": 734,
     "status": "ok",
     "timestamp": 1666201684255,
     "user": {
      "displayName": "Andre Asevedo Nepomuceno",
      "userId": "10675179558870620545"
     },
     "user_tz": 180
    },
    "id": "tVzDlZNPW8Xc",
    "outputId": "fa76b484-1bf1-4977-a038-9c7b60ea9785"
   },
   "outputs": [],
   "source": [
    "L[0] = 3.4\n",
    "L"
   ]
  },
  {
   "cell_type": "code",
   "execution_count": null,
   "metadata": {
    "executionInfo": {
     "elapsed": 333,
     "status": "ok",
     "timestamp": 1666201693954,
     "user": {
      "displayName": "Andre Asevedo Nepomuceno",
      "userId": "10675179558870620545"
     },
     "user_tz": 180
    },
    "id": "D50oet-4TeaC"
   },
   "outputs": [],
   "source": [
    "q1 = [1.1,2,3]"
   ]
  },
  {
   "cell_type": "code",
   "execution_count": null,
   "metadata": {
    "colab": {
     "base_uri": "https://localhost:8080/"
    },
    "executionInfo": {
     "elapsed": 8,
     "status": "ok",
     "timestamp": 1666201695659,
     "user": {
      "displayName": "Andre Asevedo Nepomuceno",
      "userId": "10675179558870620545"
     },
     "user_tz": 180
    },
    "id": "g8RZOUQhTeaD",
    "outputId": "ec4d3801-ba95-45eb-a340-32f71040de91"
   },
   "outputs": [],
   "source": [
    "q2 = q1\n",
    "print(q2)"
   ]
  },
  {
   "cell_type": "code",
   "execution_count": null,
   "metadata": {
    "colab": {
     "base_uri": "https://localhost:8080/"
    },
    "executionInfo": {
     "elapsed": 399,
     "status": "ok",
     "timestamp": 1666201697932,
     "user": {
      "displayName": "Andre Asevedo Nepomuceno",
      "userId": "10675179558870620545"
     },
     "user_tz": 180
    },
    "id": "BuqH5KYxTeaD",
    "outputId": "819f5454-2dc6-48df-b079-46abf03b8dfd"
   },
   "outputs": [],
   "source": [
    "q2[-1] = 'x'\n",
    "print(q2)"
   ]
  },
  {
   "cell_type": "code",
   "execution_count": null,
   "metadata": {
    "colab": {
     "base_uri": "https://localhost:8080/"
    },
    "executionInfo": {
     "elapsed": 3,
     "status": "ok",
     "timestamp": 1666201702075,
     "user": {
      "displayName": "Andre Asevedo Nepomuceno",
      "userId": "10675179558870620545"
     },
     "user_tz": 180
    },
    "id": "N9rJxRgjTeaE",
    "outputId": "4f33d3d5-0c05-4df2-d3bf-fa9cb1426a30"
   },
   "outputs": [],
   "source": [
    "print(q1)"
   ]
  },
  {
   "cell_type": "code",
   "execution_count": null,
   "metadata": {
    "colab": {
     "base_uri": "https://localhost:8080/"
    },
    "executionInfo": {
     "elapsed": 258,
     "status": "ok",
     "timestamp": 1666201706504,
     "user": {
      "displayName": "Andre Asevedo Nepomuceno",
      "userId": "10675179558870620545"
     },
     "user_tz": 180
    },
    "id": "KVBVr6XqTeaF",
    "outputId": "6815a9ca-220a-448e-8df0-d0240b34af11"
   },
   "outputs": [],
   "source": [
    "q3 = q1.copy()\n",
    "q3[0] = 4.2\n",
    "print(q1)\n",
    "print(q3)"
   ]
  },
  {
   "cell_type": "code",
   "execution_count": null,
   "metadata": {
    "colab": {
     "base_uri": "https://localhost:8080/"
    },
    "executionInfo": {
     "elapsed": 13,
     "status": "ok",
     "timestamp": 1666201743170,
     "user": {
      "displayName": "Andre Asevedo Nepomuceno",
      "userId": "10675179558870620545"
     },
     "user_tz": 180
    },
    "id": "j8Y9DnS5XFw-",
    "outputId": "6d59515e-d8e3-4d50-d088-27376b98005b"
   },
   "outputs": [],
   "source": [
    "print(L)\n",
    "L.append(8.96)\n",
    "print(L)"
   ]
  },
  {
   "cell_type": "markdown",
   "metadata": {
    "id": "cRXdxnchTeaF"
   },
   "source": [
    "**Numpy Arrays**"
   ]
  },
  {
   "cell_type": "code",
   "execution_count": null,
   "metadata": {
    "executionInfo": {
     "elapsed": 273,
     "status": "ok",
     "timestamp": 1666202241876,
     "user": {
      "displayName": "Andre Asevedo Nepomuceno",
      "userId": "10675179558870620545"
     },
     "user_tz": 180
    },
    "id": "TwkzUo1vTeaG"
   },
   "outputs": [],
   "source": [
    "import numpy as np"
   ]
  },
  {
   "cell_type": "code",
   "execution_count": null,
   "metadata": {
    "colab": {
     "base_uri": "https://localhost:8080/"
    },
    "executionInfo": {
     "elapsed": 270,
     "status": "ok",
     "timestamp": 1666202282506,
     "user": {
      "displayName": "Andre Asevedo Nepomuceno",
      "userId": "10675179558870620545"
     },
     "user_tz": 180
    },
    "id": "RtQ0s7ySZPFE",
    "outputId": "d412b41a-cf99-4e26-b213-feb9d93affa4"
   },
   "outputs": [],
   "source": [
    "a = np.array([1.,2,3.1])\n",
    "a"
   ]
  },
  {
   "cell_type": "code",
   "execution_count": null,
   "metadata": {
    "colab": {
     "base_uri": "https://localhost:8080/"
    },
    "executionInfo": {
     "elapsed": 380,
     "status": "ok",
     "timestamp": 1666202244485,
     "user": {
      "displayName": "Andre Asevedo Nepomuceno",
      "userId": "10675179558870620545"
     },
     "user_tz": 180
    },
    "id": "2o4k9VEQTeaG",
    "outputId": "1fafc3b5-abd1-412c-dad0-faceac0c0fa5",
    "scrolled": true
   },
   "outputs": [],
   "source": [
    "a = np.array( [ [1,2,3.1], [5.,6.,9]])\n",
    "print(a)"
   ]
  },
  {
   "cell_type": "code",
   "execution_count": null,
   "metadata": {
    "id": "PQcRUiLwTeaG"
   },
   "outputs": [],
   "source": [
    "a = np.arange(0,11.,2)\n",
    "b = np.linspace(0,10,6)\n",
    "print(a); print(b)"
   ]
  },
  {
   "cell_type": "code",
   "execution_count": null,
   "metadata": {
    "id": "BqdLCh0iTeaH"
   },
   "outputs": [],
   "source": [
    "a.shape"
   ]
  },
  {
   "cell_type": "code",
   "execution_count": null,
   "metadata": {
    "id": "eobcXqezTeaH"
   },
   "outputs": [],
   "source": [
    "a.ndim"
   ]
  },
  {
   "cell_type": "code",
   "execution_count": null,
   "metadata": {
    "id": "txHYIVPvTeaI"
   },
   "outputs": [],
   "source": [
    "a.size"
   ]
  },
  {
   "cell_type": "markdown",
   "metadata": {
    "id": "-ljiUQJcTeaI"
   },
   "source": [
    "**Operações com Arrays**"
   ]
  },
  {
   "cell_type": "code",
   "execution_count": null,
   "metadata": {
    "id": "v29wRPK9TeaI"
   },
   "outputs": [],
   "source": [
    "a = np.array([1.3,2.5,10.1])\n",
    "b = np.array([9.3,0.2,1.2])"
   ]
  },
  {
   "cell_type": "code",
   "execution_count": null,
   "metadata": {
    "id": "e16DsbAYTeaI"
   },
   "outputs": [],
   "source": [
    "c = np.sqrt(a)\n",
    "print(c)"
   ]
  },
  {
   "cell_type": "markdown",
   "metadata": {
    "id": "cTrJTy4_TeaI"
   },
   "source": [
    "Arrays - Slicing"
   ]
  },
  {
   "cell_type": "code",
   "execution_count": null,
   "metadata": {
    "id": "WrLqnzaYTeaJ"
   },
   "outputs": [],
   "source": [
    "a = np.linspace(1,6,6); a"
   ]
  },
  {
   "cell_type": "code",
   "execution_count": null,
   "metadata": {
    "id": "ZQ-DHFRrTeaJ"
   },
   "outputs": [],
   "source": []
  },
  {
   "cell_type": "markdown",
   "metadata": {
    "id": "fAjDVn7haKpF"
   },
   "source": [
    "**Álgebra Linear com Numpy**"
   ]
  },
  {
   "cell_type": "code",
   "execution_count": null,
   "metadata": {
    "colab": {
     "base_uri": "https://localhost:8080/"
    },
    "executionInfo": {
     "elapsed": 266,
     "status": "ok",
     "timestamp": 1666202552171,
     "user": {
      "displayName": "Andre Asevedo Nepomuceno",
      "userId": "10675179558870620545"
     },
     "user_tz": 180
    },
    "id": "WpSRSDiZaS3B",
    "outputId": "fa881ec8-f093-4c41-cfd9-a487f8e4375f"
   },
   "outputs": [],
   "source": [
    "A = np.array([[0,0.5], [-1,2]])\n",
    "B = np. array([[2, -0.5] , [3, 1.5]])\n",
    "print(A,'\\n'); print(B)"
   ]
  },
  {
   "cell_type": "code",
   "execution_count": null,
   "metadata": {
    "colab": {
     "base_uri": "https://localhost:8080/"
    },
    "executionInfo": {
     "elapsed": 12,
     "status": "ok",
     "timestamp": 1666202604405,
     "user": {
      "displayName": "Andre Asevedo Nepomuceno",
      "userId": "10675179558870620545"
     },
     "user_tz": 180
    },
    "id": "j-MmPAqpaUPB",
    "outputId": "45b7f6f0-04b0-4bf5-968a-e9ba76561255"
   },
   "outputs": [],
   "source": [
    "#produto de matrizes\n",
    "np.dot(A,B)"
   ]
  },
  {
   "cell_type": "code",
   "execution_count": null,
   "metadata": {
    "colab": {
     "base_uri": "https://localhost:8080/"
    },
    "executionInfo": {
     "elapsed": 322,
     "status": "ok",
     "timestamp": 1666202649900,
     "user": {
      "displayName": "Andre Asevedo Nepomuceno",
      "userId": "10675179558870620545"
     },
     "user_tz": 180
    },
    "id": "NbbjaYIAahCc",
    "outputId": "96bd2cd7-33ee-4a8e-dc53-cfff02fe2601"
   },
   "outputs": [],
   "source": [
    "#produto dos elementos\n",
    "A*B"
   ]
  },
  {
   "cell_type": "code",
   "execution_count": null,
   "metadata": {
    "colab": {
     "base_uri": "https://localhost:8080/"
    },
    "executionInfo": {
     "elapsed": 237,
     "status": "ok",
     "timestamp": 1666202672996,
     "user": {
      "displayName": "Andre Asevedo Nepomuceno",
      "userId": "10675179558870620545"
     },
     "user_tz": 180
    },
    "id": "ZQIDlDW5asFi",
    "outputId": "7dca5543-b886-42f2-a80f-f2faeba52b6e"
   },
   "outputs": [],
   "source": [
    "#Transposta\n",
    "A.T   #ou A.transpose()"
   ]
  },
  {
   "cell_type": "markdown",
   "metadata": {
    "id": "PZ4vQheLbDUO"
   },
   "source": [
    "Sistemas Lineares"
   ]
  },
  {
   "cell_type": "code",
   "execution_count": null,
   "metadata": {
    "colab": {
     "base_uri": "https://localhost:8080/"
    },
    "executionInfo": {
     "elapsed": 12,
     "status": "ok",
     "timestamp": 1666202819631,
     "user": {
      "displayName": "Andre Asevedo Nepomuceno",
      "userId": "10675179558870620545"
     },
     "user_tz": 180
    },
    "id": "QVxBr01QaxrS",
    "outputId": "2ebe309c-b9f1-4f64-a2c6-36c542829b4b"
   },
   "outputs": [],
   "source": [
    "M = np.array([ [3., -2, 0], [-2, 1, -3],[4, 6, 1]])\n",
    "print(M)"
   ]
  },
  {
   "cell_type": "code",
   "execution_count": null,
   "metadata": {
    "colab": {
     "base_uri": "https://localhost:8080/"
    },
    "executionInfo": {
     "elapsed": 239,
     "status": "ok",
     "timestamp": 1666202846293,
     "user": {
      "displayName": "Andre Asevedo Nepomuceno",
      "userId": "10675179558870620545"
     },
     "user_tz": 180
    },
    "id": "SUqz4zynbTKU",
    "outputId": "9372ab62-bb63-4df0-bd25-07c61d0f3db1"
   },
   "outputs": [],
   "source": [
    "b = np.array([8, -20, 7])\n",
    "print(b)"
   ]
  },
  {
   "cell_type": "code",
   "execution_count": null,
   "metadata": {
    "colab": {
     "base_uri": "https://localhost:8080/"
    },
    "executionInfo": {
     "elapsed": 16,
     "status": "ok",
     "timestamp": 1666202948491,
     "user": {
      "displayName": "Andre Asevedo Nepomuceno",
      "userId": "10675179558870620545"
     },
     "user_tz": 180
    },
    "id": "yruUgpuObcAJ",
    "outputId": "4efc1dfd-3445-4265-c8bb-8e110c73f1f7"
   },
   "outputs": [],
   "source": [
    "x, y, z = np.linalg.solve(M,b)\n",
    "print(f'x = {x:.2f}, {y:.2f}, {z:.2f}')"
   ]
  },
  {
   "cell_type": "markdown",
   "metadata": {
    "id": "aj9XtmP3b8j_"
   },
   "source": [
    "**Exemplo:**\\\\\n",
    "Vamos escrever o sistema na forma matricial (RI = V)\n",
    "\\begin{gather}\n",
    "\\begin{pmatrix}\n",
    "50 & 0 & -30\\\\\n",
    "0 & 40 & -20 \\\\\n",
    "-30 & -20 & 100\n",
    "\\end{pmatrix}\n",
    "\\begin{pmatrix}\n",
    "I_1 \\\\\n",
    "I_2 \\\\\n",
    "I_3\n",
    "\\end{pmatrix}\n",
    "= \n",
    "\\begin{pmatrix}\n",
    "80\\\\\n",
    "80\\\\\n",
    "0\n",
    "\\end{pmatrix}\n",
    "\\end{gather}"
   ]
  },
  {
   "cell_type": "code",
   "execution_count": null,
   "metadata": {
    "executionInfo": {
     "elapsed": 295,
     "status": "ok",
     "timestamp": 1666203028497,
     "user": {
      "displayName": "Andre Asevedo Nepomuceno",
      "userId": "10675179558870620545"
     },
     "user_tz": 180
    },
    "id": "j-7gCAChbdh1"
   },
   "outputs": [],
   "source": [
    "R = np.array([[50, 0, -30], [0, 40, -20], [-30, -20, 100]])\n",
    "V = np.array([80,80,0])              "
   ]
  },
  {
   "cell_type": "code",
   "execution_count": null,
   "metadata": {
    "colab": {
     "base_uri": "https://localhost:8080/"
    },
    "executionInfo": {
     "elapsed": 251,
     "status": "ok",
     "timestamp": 1666203066943,
     "user": {
      "displayName": "Andre Asevedo Nepomuceno",
      "userId": "10675179558870620545"
     },
     "user_tz": 180
    },
    "id": "dwGEfyKDcIhF",
    "outputId": "98355a5e-bb9c-4cce-fbd7-d100fe344449"
   },
   "outputs": [],
   "source": [
    "I1, I2, I3 = np.linalg.solve(R,V)\n",
    "print(f'I1 = {I1:.2f} A')\n",
    "print(f'I2 = {I2:.2f} A')\n",
    "print(f'I3 = {I3:.2f} A')"
   ]
  },
  {
   "cell_type": "markdown",
   "metadata": {
    "id": "ef1FTs-oTeaJ"
   },
   "source": [
    "**Abrindo arquivo com numpy.loadtxt**"
   ]
  },
  {
   "cell_type": "code",
   "execution_count": null,
   "metadata": {
    "id": "debnVurxTeaJ"
   },
   "outputs": [],
   "source": [
    "data1 = np.loadtxt('millikan.txt')"
   ]
  },
  {
   "cell_type": "code",
   "execution_count": null,
   "metadata": {
    "id": "0cDRghl8TeaK"
   },
   "outputs": [],
   "source": [
    "data1[:3]"
   ]
  },
  {
   "cell_type": "code",
   "execution_count": null,
   "metadata": {
    "id": "5pjo84rATeaK"
   },
   "outputs": [],
   "source": [
    "data_x = data1[:,0]\n",
    "data_x"
   ]
  },
  {
   "cell_type": "code",
   "execution_count": null,
   "metadata": {
    "id": "30eCf3oeTeaK"
   },
   "outputs": [],
   "source": [
    "data_y = data1[:,1]\n",
    "data_y"
   ]
  },
  {
   "cell_type": "markdown",
   "metadata": {
    "id": "Wj_PKC6RTeaL"
   },
   "source": [
    "Salvando arquivo com np.savetxt"
   ]
  },
  {
   "cell_type": "code",
   "execution_count": null,
   "metadata": {
    "id": "VgtFLcurTeaL"
   },
   "outputs": [],
   "source": [
    "x = np.linspace(0,1,100)\n",
    "y = 3*np.sin(x)**3 - np.sin(x)\n",
    "np.savetxt('xy_values.dat',list(zip(x,y)),fmt='%8.3f',header='x_v  y_v')  #header"
   ]
  },
  {
   "cell_type": "markdown",
   "metadata": {
    "id": "8Ty4IDq6TeaL"
   },
   "source": [
    "**Gráficos - Matplotlib**"
   ]
  },
  {
   "cell_type": "code",
   "execution_count": null,
   "metadata": {
    "executionInfo": {
     "elapsed": 660,
     "status": "ok",
     "timestamp": 1666203141731,
     "user": {
      "displayName": "Andre Asevedo Nepomuceno",
      "userId": "10675179558870620545"
     },
     "user_tz": 180
    },
    "id": "KailQ5dPTeaL"
   },
   "outputs": [],
   "source": [
    "import numpy as np, matplotlib.pyplot as plt \n",
    "%matplotlib inline"
   ]
  },
  {
   "cell_type": "code",
   "execution_count": null,
   "metadata": {
    "colab": {
     "base_uri": "https://localhost:8080/",
     "height": 282
    },
    "executionInfo": {
     "elapsed": 839,
     "status": "ok",
     "timestamp": 1666203248054,
     "user": {
      "displayName": "Andre Asevedo Nepomuceno",
      "userId": "10675179558870620545"
     },
     "user_tz": 180
    },
    "id": "2-eCbfggTeaM",
    "outputId": "dcd68411-dbda-4cea-a99f-6505c2eb496c"
   },
   "outputs": [],
   "source": [
    "x = np.linspace(-3*np.pi,3*np.pi,100)\n",
    "y = np.sin(x)\n",
    "z = np.cos(x)\n",
    "plt.plot(x,y)\n",
    "#plt.plot(x,z)\n",
    "#plt.xlim(0,7)\n",
    "#plt.ylim(-1.5,1.5)\n",
    "#plt.xlabel('Eixo X',fontsize=12)\n",
    "#plt.ylabel('Eixo Y',fontsize=12)\n",
    "#plt.legend(loc=2)\n",
    "#plt.plot(x,y,'r--',marker='o',mec='r',mfc='w',markersize=6,label='sen(x)')\n",
    "#plt.plot(x,z,c='b',label='cos(x)')\n",
    "#plt.legend(loc=3,fontsize=12,frameon=False)\n",
    "#plt.savefig('my_plot.pdf')\n",
    "#ax = plt.gca()\n",
    "#ax.tick_params(labelsize=15)"
   ]
  },
  {
   "cell_type": "markdown",
   "metadata": {
    "id": "tcM-51UQTeaM"
   },
   "source": [
    "**Gráfico de Barras**"
   ]
  },
  {
   "cell_type": "code",
   "execution_count": null,
   "metadata": {
    "colab": {
     "base_uri": "https://localhost:8080/",
     "height": 296
    },
    "executionInfo": {
     "elapsed": 711,
     "status": "ok",
     "timestamp": 1666203302451,
     "user": {
      "displayName": "Andre Asevedo Nepomuceno",
      "userId": "10675179558870620545"
     },
     "user_tz": 180
    },
    "id": "VNZjI3pSTeaN",
    "outputId": "09a3b532-3adf-4c93-afa6-609f655c51b5"
   },
   "outputs": [],
   "source": [
    "anos = np.arange(2014,2021)\n",
    "consumo = np.array([327,392,490,643,806,981,1171])\n",
    "#plt.bar(anos,consumo)\n",
    "plt.bar(anos, consumo, width=0.6,color='g',edgecolor=None)\n",
    "plt.xlabel('Anos')\n",
    "plt.ylabel('Consumo em milhares de sacas')"
   ]
  },
  {
   "cell_type": "markdown",
   "metadata": {
    "id": "O7fS6UkwTeaN"
   },
   "source": [
    "**Gráfico de Dispersão**"
   ]
  },
  {
   "cell_type": "code",
   "execution_count": null,
   "metadata": {
    "colab": {
     "base_uri": "https://localhost:8080/",
     "height": 268
    },
    "executionInfo": {
     "elapsed": 834,
     "status": "ok",
     "timestamp": 1666203327619,
     "user": {
      "displayName": "Andre Asevedo Nepomuceno",
      "userId": "10675179558870620545"
     },
     "user_tz": 180
    },
    "id": "2ekL8ygKTeaO",
    "outputId": "82d6220d-3906-44d2-8c3d-8773fdeca197"
   },
   "outputs": [],
   "source": [
    "x = np.random.randn(100)\n",
    "y = np.random.randn(100)\n",
    "colors = np.random.rand(100)\n",
    "sizes = 1000*np.random.rand(100)\n",
    "plt.scatter(x, y, c=colors, s=sizes, alpha=0.3)\n",
    "plt.colorbar()\n",
    "plt.tick_params(labelsize=13)"
   ]
  },
  {
   "cell_type": "markdown",
   "metadata": {
    "id": "MtQ_uwcuTeaO"
   },
   "source": [
    "**Meshgrid()**"
   ]
  },
  {
   "cell_type": "code",
   "execution_count": null,
   "metadata": {
    "id": "tx9Vjn5tTeaO"
   },
   "outputs": [],
   "source": [
    "#Exemplo com meshgrid\n",
    "#x = np.linspace(-3,3,21)\n",
    "#y = np.linspace(0,10,11)\n",
    "#X,Y = np.meshgrid(x,y)"
   ]
  },
  {
   "cell_type": "code",
   "execution_count": null,
   "metadata": {
    "id": "d4C1PEAYTeaO"
   },
   "outputs": [],
   "source": [
    "#print('Forma de x:',x.shape)\n",
    "#print('Forma de x:',X.shape)\n",
    "#print(X[:4])"
   ]
  },
  {
   "cell_type": "code",
   "execution_count": null,
   "metadata": {
    "id": "c5HKx92ATeaP"
   },
   "outputs": [],
   "source": [
    "#Mapa de Calor\n",
    "#x = np.linspace(0,5,50)\n",
    "#y = np.linspace(0,5,50)\n",
    "#X,Y = np.meshgrid(x,y)\n",
    "#Z =  np.sin(X)**10 + np.cos(10 + Y*X)*np.cos(X)\n",
    "#fig, ax = plt.subplots(figsize=(8,5))\n",
    "#plt.imshow(Z)\n",
    "#plt.imshow(Z, extent=[0, 5, 0, 5], origin='lower', \n",
    "#          interpolation='bilinear',cmap='RdGy')\n",
    "#plt.colorbar()"
   ]
  },
  {
   "cell_type": "markdown",
   "metadata": {
    "id": "_qga1RygpTsw"
   },
   "source": [
    "Exemplo - Dados Imobiliários"
   ]
  },
  {
   "cell_type": "code",
   "execution_count": null,
   "metadata": {
    "executionInfo": {
     "elapsed": 471,
     "status": "ok",
     "timestamp": 1666209235417,
     "user": {
      "displayName": "Andre Asevedo Nepomuceno",
      "userId": "10675179558870620545"
     },
     "user_tz": 180
    },
    "id": "cXoGs-6DpWf6"
   },
   "outputs": [],
   "source": [
    "#Abrir arquivo:\n",
    "data = np.loadtxt('housing_tutorial.csv',delimiter=',')"
   ]
  },
  {
   "cell_type": "code",
   "execution_count": null,
   "metadata": {
    "colab": {
     "base_uri": "https://localhost:8080/"
    },
    "executionInfo": {
     "elapsed": 264,
     "status": "ok",
     "timestamp": 1666209249417,
     "user": {
      "displayName": "Andre Asevedo Nepomuceno",
      "userId": "10675179558870620545"
     },
     "user_tz": 180
    },
    "id": "JRWU4tInzz6d",
    "outputId": "00cd4483-be35-454f-81f4-8ceda8a3f08e"
   },
   "outputs": [],
   "source": [
    "data[:10]"
   ]
  },
  {
   "cell_type": "code",
   "execution_count": null,
   "metadata": {},
   "outputs": [],
   "source": [
    "data.shape"
   ]
  },
  {
   "cell_type": "code",
   "execution_count": null,
   "metadata": {
    "colab": {
     "base_uri": "https://localhost:8080/",
     "height": 269
    },
    "executionInfo": {
     "elapsed": 2366,
     "status": "ok",
     "timestamp": 1666209475395,
     "user": {
      "displayName": "Andre Asevedo Nepomuceno",
      "userId": "10675179558870620545"
     },
     "user_tz": 180
    },
    "id": "xjOX1kgkzr_V",
    "outputId": "c8ab6eb6-1077-478a-b5cb-6493986d1d82"
   },
   "outputs": [],
   "source": [
    "#scatter plot\n",
    "#meuplot = plt.scatter(data[:,1],data[:,2],s=data[:,3],c=data[:,-1]/10000.)\n",
    "#cbar = plt.colorbar(meuplot)\n",
    "#cbar.set_label('Preço Medio (x 10000)',fontsize=12,labelpad=13)"
   ]
  },
  {
   "cell_type": "markdown",
   "metadata": {
    "id": "rEdcueFUzeLe"
   },
   "source": [
    "**Python Científico - SciyPy**"
   ]
  },
  {
   "cell_type": "code",
   "execution_count": null,
   "metadata": {
    "id": "RdyOqRKJTeaP"
   },
   "outputs": [],
   "source": [
    "from scipy.optimize import brentq, newton, fsolve\n",
    "from scipy.optimize import curve_fit\n",
    "from scipy.integrate import quad\n",
    "from scipy.integrate import solve_ivp"
   ]
  },
  {
   "cell_type": "markdown",
   "metadata": {},
   "source": [
    "**Definindo Funções**"
   ]
  },
  {
   "cell_type": "code",
   "execution_count": null,
   "metadata": {},
   "outputs": [],
   "source": []
  },
  {
   "cell_type": "markdown",
   "metadata": {},
   "source": [
    "**1. Raízes de Funções**"
   ]
  },
  {
   "cell_type": "markdown",
   "metadata": {},
   "source": [
    "Exemplo:\n",
    "\\begin{equation}\n",
    "    f(x) \\, = \\, \\frac{1}{5} + x \\textrm{cos} \\left ( \\frac{3}{x} \\right ).\n",
    "    \\nonumber\n",
    "\\end{equation}"
   ]
  },
  {
   "cell_type": "code",
   "execution_count": null,
   "metadata": {},
   "outputs": [],
   "source": [
    "f1 = lambda x: 0.2 + x*np.cos(3/x)\n",
    "x = np.linspace(-1,1,200)\n",
    "plt.plot(x,f1(x))\n",
    "plt.axhline(0, c='k',ls='--')"
   ]
  },
  {
   "cell_type": "code",
   "execution_count": null,
   "metadata": {},
   "outputs": [],
   "source": [
    "#intervalo [-0.7,-0.5]\n",
    "print(np.sign(f1(-0.7)))\n",
    "print(np.sign(f1(-0.5)))"
   ]
  },
  {
   "cell_type": "code",
   "execution_count": null,
   "metadata": {
    "id": "QVw1KIVPTeaP"
   },
   "outputs": [],
   "source": [
    "#calcule as raizes\n",
    "brentq(f1,-0.7,-0.5)"
   ]
  },
  {
   "cell_type": "markdown",
   "metadata": {},
   "source": [
    "**2. Ajuste de  Curvas**"
   ]
  },
  {
   "cell_type": "code",
   "execution_count": null,
   "metadata": {},
   "outputs": [],
   "source": [
    "#difinir a função f(x) (Lorentziana)\n",
    "def f(x,x0,A,gamma):\n",
    "    return A*gamma**2/(gamma**2 + (x-x0)**2)   "
   ]
  },
  {
   "cell_type": "code",
   "execution_count": null,
   "metadata": {},
   "outputs": [],
   "source": [
    "#Vamos simular alguns dados\n",
    "npoints = 100\n",
    "x = np.linspace(1,20,npoints)\n",
    "x0, A, gamma = 12,3,5\n",
    "yexato = f(x,x0,A,gamma)\n",
    "erro_y = np.ones(npoints)*0.7\n",
    "ydata = yexato + np.random.randn(npoints)*erro_y"
   ]
  },
  {
   "cell_type": "code",
   "execution_count": null,
   "metadata": {},
   "outputs": [],
   "source": [
    "#Ajuste com os erros\n",
    "p0 = [10,4,2]\n",
    "params, pcov = curve_fit(f,x,ydata,p0, sigma=erro_y, absolute_sigma=True,check_finite=True)\n",
    "print(params)\n",
    "print(pcov)"
   ]
  },
  {
   "cell_type": "code",
   "execution_count": null,
   "metadata": {},
   "outputs": [],
   "source": [
    "#Erro nos parametros:\n",
    "err_par = np.sqrt(np.diag(pcov))\n",
    "print(err_par)"
   ]
  },
  {
   "cell_type": "code",
   "execution_count": null,
   "metadata": {},
   "outputs": [],
   "source": [
    "#Comparar os resultados graficamente\n",
    "yfit = f(x,*params)\n",
    "plt.errorbar(x,ydata,yerr=erro_y, color = 'k',elinewidth=0.8,lw=0,marker='.',label='Dados')\n",
    "plt.plot(x,yexato,c='b',label='Exato')\n",
    "plt.plot(x,yfit,c='r',label='Ajuste')\n",
    "plt.ylim(-1,5)\n",
    "plt.legend(frameon=False,loc='upper left',fontsize=12)\n",
    "info1 = '$x_0$ = {:.2f} $\\pm$ {:.2f}'.format(params[0],err_par[0])\n",
    "info2 = '$\\gamma$  = {:.2f} $\\pm$ {:.2f}'.format(params[2],err_par[2])\n",
    "plt.text(9,-0.6,info1,fontsize=12)\n",
    "plt.text(9,0.1,info2,fontsize=12)"
   ]
  },
  {
   "cell_type": "markdown",
   "metadata": {},
   "source": [
    "**3. Integração Numérica**"
   ]
  },
  {
   "cell_type": "code",
   "execution_count": null,
   "metadata": {},
   "outputs": [],
   "source": [
    "f1 = lambda x: 1/x**(2)"
   ]
  },
  {
   "cell_type": "code",
   "execution_count": null,
   "metadata": {},
   "outputs": [],
   "source": [
    "quad(f1,a=1,b=4)"
   ]
  },
  {
   "cell_type": "code",
   "execution_count": null,
   "metadata": {},
   "outputs": [],
   "source": [
    "f2 = lambda x: 1/np.sqrt(np.abs(x))"
   ]
  },
  {
   "cell_type": "code",
   "execution_count": null,
   "metadata": {},
   "outputs": [],
   "source": [
    "quad(f2,-1,1,points=[0])"
   ]
  },
  {
   "cell_type": "markdown",
   "metadata": {},
   "source": [
    "**4. Equações Diferenciais**"
   ]
  },
  {
   "cell_type": "markdown",
   "metadata": {},
   "source": [
    "Exemplo 1 - Uma eq. de primeira ordem\n",
    "\\begin{equation}\n",
    "    \\frac{dy}{dt} \\,=\\, - ky \\nonumber\n",
    "\\end{equation}"
   ]
  },
  {
   "cell_type": "code",
   "execution_count": null,
   "metadata": {},
   "outputs": [],
   "source": [
    "k = 0.2\n",
    "#valor de y em t = 0\n",
    "y0 = 100\n",
    "#intervalo de tempo\n",
    "t0, tf = 0,20\n",
    "t = np.linspace(0,20,100)\n",
    "def dydt(t,y):\n",
    "    return -k*y"
   ]
  },
  {
   "cell_type": "code",
   "execution_count": null,
   "metadata": {},
   "outputs": [],
   "source": [
    "solve_ivp (dydt , (t0 , tf), y0=[y0])"
   ]
  },
  {
   "cell_type": "code",
   "execution_count": null,
   "metadata": {},
   "outputs": [],
   "source": [
    "sol1 = solve_ivp (dydt ,(t0, tf), y0=[y0],t_eval=t)\n",
    "sol1.y"
   ]
  },
  {
   "cell_type": "code",
   "execution_count": null,
   "metadata": {},
   "outputs": [],
   "source": [
    "plt.plot(sol1.t,sol1.y[0],'.r')"
   ]
  },
  {
   "cell_type": "markdown",
   "metadata": {},
   "source": [
    "Exemplo 2 - Sistema de EDOs\n",
    "\\begin{equation}\n",
    "\\frac{dx}{dt} = xy - x, \\;\\;\\;\\;\\; \\frac{dy}{dt} = y -xy + sen^2\\omega t\n",
    "\\end{equation}"
   ]
  },
  {
   "cell_type": "code",
   "execution_count": null,
   "metadata": {},
   "outputs": [],
   "source": [
    "def edo_sis(t,r,omega):\n",
    "    x,y  = r\n",
    "    dxdt = x*y - x\n",
    "    dydt = y - x*y + np.sin(omega*t)**2\n",
    "    return dxdt, dydt"
   ]
  },
  {
   "cell_type": "code",
   "execution_count": null,
   "metadata": {},
   "outputs": [],
   "source": [
    "#Agora necessitamos de duas condições iniciais\n",
    "r0 = [1.,1.]\n",
    "t0,tf = 0,10\n",
    "t = np.linspace(0,10,500)\n",
    "omega = 1\n",
    "sol2 = solve_ivp (edo_sis, (t0, tf), y0 = r0,args=(omega,),t_eval=t)"
   ]
  },
  {
   "cell_type": "code",
   "execution_count": null,
   "metadata": {},
   "outputs": [],
   "source": [
    "#Potar a soluções\n",
    "plt.plot(t,sol2.y[0],lw=2,label='x(t)')\n",
    "plt.plot(t,sol2.y[1],'--r',lw=2,label='y(t)')\n",
    "plt.xlabel('t',fontsize=12)\n",
    "plt.ylabel('f(t)',fontsize=12)\n",
    "plt.legend(fontsize=12,frameon=False)"
   ]
  },
  {
   "cell_type": "markdown",
   "metadata": {},
   "source": [
    "Exemplo 3 - EDOs de Segunda Ordem\n",
    "\\begin{equation}\n",
    "    \\frac{d^2x}{dt^2} \\,=\\, - \\omega^2 x \\nonumber\n",
    "\\end{equation}"
   ]
  },
  {
   "cell_type": "code",
   "execution_count": null,
   "metadata": {},
   "outputs": [],
   "source": [
    "omega = 0.9\n",
    "A = 3\n",
    "v0 = 0\n",
    "t0,tf = 0,20\n",
    "t = np.linspace(t0,tf,100)"
   ]
  },
  {
   "cell_type": "code",
   "execution_count": null,
   "metadata": {},
   "outputs": [],
   "source": [
    "def mhs(t,r):\n",
    "    x,v = r\n",
    "    dxdt = v\n",
    "    dvdt = -omega**2*x\n",
    "    return dxdt,dvdt"
   ]
  },
  {
   "cell_type": "code",
   "execution_count": null,
   "metadata": {},
   "outputs": [],
   "source": [
    "sol3 = solve_ivp(mhs,(t0,tf),y0=[A,v0],t_eval=t)"
   ]
  },
  {
   "cell_type": "code",
   "execution_count": null,
   "metadata": {},
   "outputs": [],
   "source": [
    "plt.plot(t,sol3.y[0],'r',label='Posicao')\n",
    "plt.plot(t,sol3.y[1],'b--',label='Velocidade')\n",
    "plt.ylim(-3.2,4.5)\n",
    "plt.legend(frameon=False,fontsize=12,loc='upper right')"
   ]
  }
 ],
 "metadata": {
  "colab": {
   "collapsed_sections": [],
   "provenance": []
  },
  "kernelspec": {
   "display_name": "Python 3 (ipykernel)",
   "language": "python",
   "name": "python3"
  },
  "language_info": {
   "codemirror_mode": {
    "name": "ipython",
    "version": 3
   },
   "file_extension": ".py",
   "mimetype": "text/x-python",
   "name": "python",
   "nbconvert_exporter": "python",
   "pygments_lexer": "ipython3",
   "version": "3.9.12"
  }
 },
 "nbformat": 4,
 "nbformat_minor": 1
}
